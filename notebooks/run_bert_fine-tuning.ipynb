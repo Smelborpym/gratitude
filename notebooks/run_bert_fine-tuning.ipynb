{
  "cells": [
    {
      "cell_type": "code",
      "execution_count": null,
      "metadata": {
        "colab": {
          "base_uri": "https://localhost:8080/"
        },
        "id": "xSkgDnvK1zaT",
        "outputId": "79cf1e35-2769-489b-c931-de4259372b52"
      },
      "outputs": [
        {
          "name": "stdout",
          "output_type": "stream",
          "text": [
            "[nltk_data] Downloading package averaged_perceptron_tagger to\n",
            "[nltk_data]     /root/nltk_data...\n",
            "[nltk_data]   Unzipping taggers/averaged_perceptron_tagger.zip.\n",
            "[nltk_data] Downloading package wordnet to /root/nltk_data...\n",
            "[nltk_data]   Unzipping corpora/wordnet.zip.\n"
          ]
        }
      ],
      "source": [
        "from os import getcwd\n",
        "from os.path import join, dirname\n",
        "\n",
        "PATH_REPO = dirname(getcwd())\n",
        "PATH_UTILS = join(PATH_REPO, 'utils')\n",
        "PATH_DATA = join(PATH_REPO, 'data')\n",
        "PATH_DESTINATION = join(PATH_REPO, 'models')\n",
        "\n",
        "import sys\n",
        "sys.path.insert(0,PATH_UTILS)\n",
        "\n",
        "\n",
        "import re\n",
        "\n",
        "from os.path import join\n",
        "import pandas as pd\n",
        "import numpy as np\n",
        "\n",
        "\n",
        "import nlpaug.augmenter.word as naw\n",
        "\n",
        "import matplotlib.pyplot as plt\n",
        "\n",
        "#from transformers import DistilBertTokenizer, TFDistilBertModel\n",
        "from transformers import AutoTokenizer, AutoModelForMaskedLM\n",
        "\n",
        "\n",
        "import tensorflow as tf\n",
        "import logging\n",
        "\n",
        "import nltk\n",
        "nltk.download('averaged_perceptron_tagger')\n",
        "nltk.download('wordnet')\n",
        "\n",
        "tf.get_logger().setLevel('ERROR')\n",
        "tf.config.list_physical_devices('GPU')\n",
        "\n",
        "pd.set_option('max_colwidth', None)\n",
        "\n",
        "from bert_training import train_bert, get_model, get_inputs\n",
        "from preprocessing import additional_preprocessing"
      ]
    },
    {
      "cell_type": "markdown",
      "metadata": {
        "id": "LGu-cG4CUsbw"
      },
      "source": [
        "## Load the datasets"
      ]
    },
    {
      "cell_type": "code",
      "execution_count": null,
      "metadata": {
        "id": "VICP6Smc_Jks"
      },
      "outputs": [],
      "source": [
        "train = pd.read_csv(join(PATH_DATA, \"training_set.csv\"), usecols= ['text', 'label', 'french', 'spanish', 'arabic'], engine=\"python\")\n",
        "train.drop(0, inplace=True)\n",
        "train = train.dropna()\n",
        "\n",
        "validation = pd.read_csv(join(PATH_DATA, \"validation_set.csv\"), usecols= ['text', 'label', 'french', 'spanish', 'arabic'], engine=\"python\")\n",
        "validation.drop(0, inplace=True)\n",
        "validation = validation.dropna()\n",
        "\n",
        "test = pd.read_csv(join(PATH_DATA, \"test_set.csv\"), usecols= ['text', 'label', 'french', 'spanish', 'arabic'], engine=\"python\")\n",
        "test.drop(0, inplace=True)\n",
        "test = test.dropna()"
      ]
    },
    {
      "cell_type": "code",
      "execution_count": null,
      "metadata": {
        "id": "vMO9ZmaEIQMD"
      },
      "outputs": [],
      "source": [
        "test"
      ]
    },
    {
      "cell_type": "markdown",
      "metadata": {
        "id": "RblN9OhwUvAL"
      },
      "source": [
        "## Apply additional preprocessing"
      ]
    },
    {
      "cell_type": "code",
      "execution_count": null,
      "metadata": {
        "id": "yNEcBzSjS8uY"
      },
      "outputs": [],
      "source": [
        "train[\"text\"] = train[\"text\"].astype(str)\n",
        "train[\"french\"] = train[\"french\"].astype(str)\n",
        "train[\"arabic\"] = train[\"arabic\"].astype(str)\n",
        "train[\"spanish\"] = train[\"spanish\"].astype(str)\n",
        "\n",
        "validation[\"text\"] = validation[\"text\"].astype(str)\n",
        "validation[\"french\"] = validation[\"french\"].astype(str)\n",
        "validation[\"arabic\"] = validation[\"arabic\"].astype(str)\n",
        "validation[\"spanish\"] = validation[\"spanish\"].astype(str)\n",
        "\n",
        "test[\"text\"] = test[\"text\"].astype(str)\n",
        "test[\"french\"] = test[\"french\"].astype(str)\n",
        "test[\"arabic\"] = test[\"arabic\"].astype(str)\n",
        "test[\"spanish\"] = test[\"spanish\"].astype(str)\n",
        "\n",
        "train['arabic'] = train['arabic'].apply(lambda x: re.sub('(مستخدم)|(المستخدم)', '/[USER/]', x))\n",
        "train['spanish'] = train['spanish'].apply(lambda x: re.sub('(Usario)|(usario)', '/[USER/]', x))\n",
        "train['french'] = train['french'].apply(lambda x: re.sub('(Utilisateur)|(utilisateur)', '/[USER/]', x))\n",
        "\n",
        "validation['arabic'] = validation['arabic'].apply(lambda x: re.sub('(مستخدم)|(المستخدم)', '/[USER/]', x))\n",
        "validation['spanish'] = validation['spanish'].apply(lambda x: re.sub('(Usario)|(usario)', '/[USER/]', x))\n",
        "validation['french'] = validation['french'].apply(lambda x: re.sub('(Utilisateur)|(utilisateur)', '/[USER/]', x))\n",
        "\n",
        "test['arabic'] = test['arabic'].apply(lambda x: re.sub('(مستخدم)|(المستخدم)', '/[USER/]', x))\n",
        "test['spanish'] = test['spanish'].apply(lambda x: re.sub('(Usario)|(usario)', '/[USER/]', x))\n",
        "test['french'] = test['french'].apply(lambda x: re.sub('(Utilisateur)|(utilisateur)', '/[USER/]', x))\n",
        "\n",
        "\n",
        "\n",
        "train['text'] = train['text'].apply(lambda x: additional_preprocessing(x))\n",
        "train['french'] = train['french'].apply(lambda x: additional_preprocessing(x))\n",
        "train['spanish'] = train['spanish'].apply(lambda x: additional_preprocessing(x))\n",
        "train['arabic'] = train['arabic'].apply(lambda x: additional_preprocessing(x))\n",
        "\n",
        "\n",
        "validation['text'] = validation['text'].apply(lambda x: additional_preprocessing(x))\n",
        "validation['french'] = validation['french'].apply(lambda x: additional_preprocessing(x))\n",
        "validation['spanish'] = validation['spanish'].apply(lambda x: additional_preprocessing(x))\n",
        "validation['arabic'] = validation['text'].apply(lambda x: additional_preprocessing(x))\n",
        "\n",
        "test['text'] = test['text'].apply(lambda x: additional_preprocessing(x))\n",
        "test['french'] = test['french'].apply(lambda x: additional_preprocessing(x))\n",
        "test['spanish'] = test['spanish'].apply(lambda x: additional_preprocessing(x))\n",
        "test['arabic'] = test['arabic'].apply(lambda x: additional_preprocessing(x))"
      ]
    },
    {
      "cell_type": "code",
      "execution_count": null,
      "metadata": {
        "id": "cnAyUCyLMogh"
      },
      "outputs": [],
      "source": [
        "validation"
      ]
    },
    {
      "cell_type": "markdown",
      "metadata": {
        "id": "jLmWqBABU2qs"
      },
      "source": [
        "## Initialize augmenters"
      ]
    },
    {
      "cell_type": "code",
      "execution_count": null,
      "metadata": {
        "id": "D6vFacMDSO_z"
      },
      "outputs": [],
      "source": [
        "syn = naw.SynonymAug(aug_src='wordnet', stopwords=['USER'], aug_max=5)\n",
        "rand = naw.RandomWordAug()"
      ]
    },
    {
      "cell_type": "markdown",
      "metadata": {
        "id": "m2xhfnp9U5iC"
      },
      "source": [
        "## Apply augmentation"
      ]
    },
    {
      "cell_type": "code",
      "execution_count": null,
      "metadata": {
        "id": "Z7_8NFrISp6A"
      },
      "outputs": [],
      "source": [
        "train['text'] = train['text'].apply(lambda x: syn.augment(x, n=1))\n",
        "train['text'] = train['text'].apply(lambda x: rand.augment(x))"
      ]
    },
    {
      "cell_type": "markdown",
      "metadata": {
        "id": "V_vbbsjZe3C_"
      },
      "source": [
        "## Merge different language text columns to prepare the arrays"
      ]
    },
    {
      "cell_type": "code",
      "execution_count": null,
      "metadata": {
        "id": "hCK2DK-rSEz0"
      },
      "outputs": [],
      "source": [
        "en = train.loc[:, \"text\"].values\n",
        "fr = train.loc[:, \"french\"].values\n",
        "ar = train.loc[:, \"arabic\"].values\n",
        "es = train.loc[:, \"spanish\"].values\n",
        "\n",
        "X_train = np.concatenate((en, fr, ar, es))\n",
        "\n",
        "train[\"label\"] = train[\"label\"].astype(int)\n",
        "lbls = train.loc[:, 'label'].values\n",
        "\n",
        "Y_train = np.concatenate((lbls, lbls, lbls, lbls))\n",
        "train['label'] = pd.Series(Y_train)\n",
        "\n",
        "\n",
        "en_dev = validation.loc[:, \"text\"].values\n",
        "fr_dev = validation.loc[:, \"french\"].values\n",
        "ar_dev = validation.loc[:, \"arabic\"].values\n",
        "es_dev = validation.loc[:, \"spanish\"].values\n",
        "\n",
        "X_dev = np.concatenate((en_dev, fr_dev, ar_dev, es_dev))\n",
        "\n",
        "validation[\"label\"] = validation[\"label\"].astype(int)\n",
        "lbls_dev = validation.loc[:, 'label'].values\n",
        "\n",
        "Y_dev = np.concatenate((lbls_dev, lbls_dev, lbls_dev, lbls_dev))\n",
        "validation[\"label\"] = pd.Series(Y_dev)\n",
        "\n",
        "\n",
        "en_test = test.loc[:, \"text\"].values\n",
        "fr_test = test.loc[:, \"french\"].values\n",
        "ar_test = test.loc[:, \"arabic\"].values\n",
        "es_test = test.loc[:, \"spanish\"].values\n",
        "\n",
        "X_test = np.concatenate((en_test, fr_test, ar_test, es_test))\n",
        "\n",
        "test[\"label\"] = test[\"label\"].astype(int)\n",
        "lbls_test = test.loc[:, 'label'].values\n",
        "\n",
        "Y_test = np.concatenate((lbls_test, lbls_test, lbls_test, lbls_test))\n",
        "test[\"label\"] = pd.Series(Y_test)"
      ]
    },
    {
      "cell_type": "markdown",
      "metadata": {
        "id": "yItqOLCaVGpU"
      },
      "source": [
        "## Load the tokenizer and the transformer"
      ]
    },
    {
      "cell_type": "code",
      "execution_count": null,
      "metadata": {
        "colab": {
          "base_uri": "https://localhost:8080/",
          "height": 289,
          "referenced_widgets": [
            "89b9622c82c7485bb84f302ead84172a",
            "393b4a28dd2f4c588c033cd3eef864ed",
            "515f14cb10dc4e70aeedba8728554fb5",
            "6be0fb69dead431e95c4ee2d6f3420e2",
            "cc5446093eca47dd8b56788eca6528d8",
            "36c6ab707a4642518e5951bd6e16cefc",
            "6f716b7be2114ccd8a79bcb68dcf037d",
            "d27c7ecbffe5405fb08a9ff3af54c84b",
            "6a453e64dd854c39b296d387f2886a90",
            "a6b4d8f17e33421e8bc380fa8edefa28",
            "fbeb19f370154dc29ada1192e6dc467a",
            "f48f6f28069c4f5a8ece5c90f7b4d330",
            "274b457382824e6aac4e6676d4aaf31d",
            "0abbf5be646c4005bc412905257ca5e9",
            "aded0165cf3e411eada1f4b411bdaaf1",
            "261e8174fed944fcac19468aaafe9ceb",
            "b611e50401264186a11499a3e5b1cbee",
            "04e635287c3443219b805ead27484207",
            "74f54908c9864d00815bf9a772bd1cb5",
            "ea258db3126147cf9e4e63adc0153509",
            "81a4224527bd4d88bb344410cf87f434",
            "5787851e6fb143a18265ced22385f771",
            "f281e81e06cf4fc6b28d7ddde8556fb4",
            "f8023e366eec4e8c8b522b5cf7348517",
            "5d503270005e4b70bde3e89e4feaff0a",
            "2e4862831d8a4db5b4af83455fce77b6",
            "6c3ec69e194f434ca828cc8651e948e2",
            "ccc14ec223014c55b6d6bf1b4dfd77c7",
            "9a828afc0f714433b5504b98738ee282",
            "17ce309946224b8c854b0aca937b607d",
            "29aa544ce46640a594bb248cd80249dd",
            "16ee0cf031ab48c9a311395264f8cfd1",
            "af2990edb53743f8ba06ca16121ede7b",
            "ca3e80113ebe4ffb96396e1e30191133",
            "6a5911e87c4c418ca4693062e81995e5",
            "bc6977dc40834a35ad65eaa52faa88c7",
            "3641bed92c73407b9a00aaf63520c7a2",
            "1bfa403baf8c41e6b5596dd37e2c8567",
            "2065852d913d4afa839ad6df3b30e3bb",
            "eaf045854c124df8b5fd1a1a78c9d786",
            "3ecfcffb138348b0995e50eca32cc244",
            "2871dfd58a974483ba5c116ef15e76bf",
            "172fa9c8f83a42839a5354bf0736571c",
            "c1019ab71a3348cfb32d84469627600e",
            "736528ad9a2045c284c9a5cdb9e03635",
            "cfdb80f055b34eaa9b567a4c94541fcc",
            "49d4432dccb645f7a26c44bdaed6d434",
            "56e7aafb7fac40b4954d45a6ab082b30",
            "9708990cb48745228df76b2729c8af15",
            "a29ffa4c2f0d48fd878b16777b6c8637",
            "d465d0088c214554a73b93be11dd35ba",
            "964e8b443ab94a238800c7ff5d8ccb57",
            "e7d30d774c794328a879b7350cf19db0",
            "9a7bf58d528f4324aef52e1400d310a4",
            "d4625bc1647f4b52a635b1ec006d035d"
          ]
        },
        "id": "Yo5ZRBwls7dS",
        "outputId": "cab01381-149e-46e0-a6ed-d9685ff3eb44"
      },
      "outputs": [
        {
          "data": {
            "application/vnd.jupyter.widget-view+json": {
              "model_id": "89b9622c82c7485bb84f302ead84172a",
              "version_major": 2,
              "version_minor": 0
            },
            "text/plain": [
              "Downloading:   0%|          | 0.00/972k [00:00<?, ?B/s]"
            ]
          },
          "metadata": {},
          "output_type": "display_data"
        },
        {
          "data": {
            "application/vnd.jupyter.widget-view+json": {
              "model_id": "f48f6f28069c4f5a8ece5c90f7b4d330",
              "version_major": 2,
              "version_minor": 0
            },
            "text/plain": [
              "Downloading:   0%|          | 0.00/29.0 [00:00<?, ?B/s]"
            ]
          },
          "metadata": {},
          "output_type": "display_data"
        },
        {
          "data": {
            "application/vnd.jupyter.widget-view+json": {
              "model_id": "f281e81e06cf4fc6b28d7ddde8556fb4",
              "version_major": 2,
              "version_minor": 0
            },
            "text/plain": [
              "Downloading:   0%|          | 0.00/1.87M [00:00<?, ?B/s]"
            ]
          },
          "metadata": {},
          "output_type": "display_data"
        },
        {
          "data": {
            "application/vnd.jupyter.widget-view+json": {
              "model_id": "ca3e80113ebe4ffb96396e1e30191133",
              "version_major": 2,
              "version_minor": 0
            },
            "text/plain": [
              "Downloading:   0%|          | 0.00/466 [00:00<?, ?B/s]"
            ]
          },
          "metadata": {},
          "output_type": "display_data"
        },
        {
          "data": {
            "application/vnd.jupyter.widget-view+json": {
              "model_id": "736528ad9a2045c284c9a5cdb9e03635",
              "version_major": 2,
              "version_minor": 0
            },
            "text/plain": [
              "Downloading:   0%|          | 0.00/869M [00:00<?, ?B/s]"
            ]
          },
          "metadata": {},
          "output_type": "display_data"
        },
        {
          "name": "stderr",
          "output_type": "stream",
          "text": [
            "Some layers from the model checkpoint at distilbert-base-multilingual-cased were not used when initializing TFDistilBertModel: ['activation_13', 'vocab_transform', 'vocab_layer_norm', 'vocab_projector']\n",
            "- This IS expected if you are initializing TFDistilBertModel from the checkpoint of a model trained on another task or with another architecture (e.g. initializing a BertForSequenceClassification model from a BertForPreTraining model).\n",
            "- This IS NOT expected if you are initializing TFDistilBertModel from the checkpoint of a model that you expect to be exactly identical (initializing a BertForSequenceClassification model from a BertForSequenceClassification model).\n",
            "All the layers of TFDistilBertModel were initialized from the model checkpoint at distilbert-base-multilingual-cased.\n",
            "If your task is similar to the task the model of the checkpoint was trained on, you can already use TFDistilBertModel for predictions without further training.\n"
          ]
        }
      ],
      "source": [
        "from transformers import DistilBertTokenizer, TFDistilBertModel\n",
        "tokenizer = DistilBertTokenizer.from_pretrained('distilbert-base-multilingual-cased')\n",
        "transformer_model = TFDistilBertModel.from_pretrained('distilbert-base-multilingual-cased')"
      ]
    },
    {
      "cell_type": "code",
      "execution_count": null,
      "metadata": {
        "id": "T3Bd0x3O7yNI"
      },
      "outputs": [],
      "source": [
        "special_tokens = []"
      ]
    },
    {
      "cell_type": "markdown",
      "metadata": {
        "id": "2p0hx0TvVKTh"
      },
      "source": [
        "## Prepare inputs"
      ]
    },
    {
      "cell_type": "code",
      "execution_count": null,
      "metadata": {
        "id": "0SsdUvpHt5Wl"
      },
      "outputs": [],
      "source": [
        "dev_inputs = get_inputs(tokenizer, X_dev, 128)\n",
        "test_inputs = get_inputs(tokenizer, X_test, 128)"
      ]
    },
    {
      "cell_type": "markdown",
      "metadata": {
        "id": "YycBs80kVMjX"
      },
      "source": [
        "## Build the model"
      ]
    },
    {
      "cell_type": "code",
      "execution_count": null,
      "metadata": {
        "colab": {
          "base_uri": "https://localhost:8080/"
        },
        "id": "cgGiTAG4CVFj",
        "outputId": "fe4e79d9-8b8c-48a6-f723-4674270f47d0"
      },
      "outputs": [
        {
          "name": "stdout",
          "output_type": "stream",
          "text": [
            "Model: \"model\"\n",
            "__________________________________________________________________________________________________\n",
            " Layer (type)                   Output Shape         Param #     Connected to                     \n",
            "==================================================================================================\n",
            " input_token (InputLayer)       [(None, 128)]        0           []                               \n",
            "                                                                                                  \n",
            " masked_token (InputLayer)      [(None, 128)]        0           []                               \n",
            "                                                                                                  \n",
            " tf_distil_bert_model (TFDistil  TFBaseModelOutput(l  134734080  ['input_token[0][0]',            \n",
            " BertModel)                     ast_hidden_state=(N               'masked_token[0][0]']           \n",
            "                                one, 128, 768),                                                   \n",
            "                                 hidden_states=None                                               \n",
            "                                , attentions=None)                                                \n",
            "                                                                                                  \n",
            " tf.__operators__.getitem (Slic  (None, 768)         0           ['tf_distil_bert_model[0][0]']   \n",
            " ingOpLambda)                                                                                     \n",
            "                                                                                                  \n",
            " flatten (Flatten)              (None, 768)          0           ['tf.__operators__.getitem[0][0]'\n",
            "                                                                 ]                                \n",
            "                                                                                                  \n",
            " dense (Dense)                  (None, 1)            769         ['flatten[0][0]']                \n",
            "                                                                                                  \n",
            "==================================================================================================\n",
            "Total params: 134,734,849\n",
            "Trainable params: 134,734,849\n",
            "Non-trainable params: 0\n",
            "__________________________________________________________________________________________________\n"
          ]
        }
      ],
      "source": [
        "model = get_model(128, transformer_model, 1)\n",
        "model.summary()"
      ]
    },
    {
      "cell_type": "markdown",
      "metadata": {
        "id": "CClrdr4wVP37"
      },
      "source": [
        "## Train the model"
      ]
    },
    {
      "cell_type": "code",
      "execution_count": null,
      "metadata": {
        "colab": {
          "base_uri": "https://localhost:8080/"
        },
        "id": "wfnqWEssgyS5",
        "outputId": "5315d06e-7de1-4431-a6f6-aa9d615046dd"
      },
      "outputs": [
        {
          "name": "stdout",
          "output_type": "stream",
          "text": [
            "Epoch 1/16\n",
            "4124/4124 [==============================] - 2454s 592ms/step - loss: 0.1668 - recall: 0.9422 - precision: 0.9427 - val_loss: 0.0578 - val_recall: 0.9875 - val_precision: 0.9875\n",
            "Epoch 2/16\n",
            "4124/4124 [==============================] - 2441s 592ms/step - loss: 0.0879 - recall: 0.9739 - precision: 0.9739 - val_loss: 0.0397 - val_recall: 0.9912 - val_precision: 0.9888\n",
            "Epoch 3/16\n",
            "4124/4124 [==============================] - 2442s 592ms/step - loss: 0.0563 - recall: 0.9829 - precision: 0.9828 - val_loss: 0.0349 - val_recall: 0.9875 - val_precision: 0.9900\n",
            "Epoch 4/16\n",
            "4124/4124 [==============================] - 2435s 590ms/step - loss: 0.0353 - recall: 0.9889 - precision: 0.9887 - val_loss: 0.0520 - val_recall: 0.9875 - val_precision: 0.9863\n",
            "Epoch 5/16\n",
            "4124/4124 [==============================] - 2441s 592ms/step - loss: 0.0221 - recall: 0.9930 - precision: 0.9929 - val_loss: 0.0545 - val_recall: 0.9887 - val_precision: 0.9887\n",
            "Epoch 6/16\n",
            "4124/4124 [==============================] - 2443s 592ms/step - loss: 0.0148 - recall: 0.9953 - precision: 0.9952 - val_loss: 0.0614 - val_recall: 0.9887 - val_precision: 0.9875\n"
          ]
        },
        {
          "name": "stderr",
          "output_type": "stream",
          "text": [
            "WARNING:absl:Found untraced functions such as embeddings_layer_call_fn, embeddings_layer_call_and_return_conditional_losses, transformer_layer_call_fn, transformer_layer_call_and_return_conditional_losses, LayerNorm_layer_call_fn while saving (showing 5 of 410). These functions will not be directly callable after loading.\n"
          ]
        }
      ],
      "source": [
        "model = train_bert(np.array(X_train), np.array(Y_train), np.array(X_dev), np.array(Y_dev), tokenizer, 16, 64, transformer_model, [\"Gratitude\", \"No Gratitude\"], 1e-5, 16)\n",
        "model.save(join(PATH_DESTINATION, 'bert_multi_16_128_1e-5_16'))"
      ]
    },
    {
      "cell_type": "markdown",
      "metadata": {
        "id": "Aj74gDr8VSAj"
      },
      "source": [
        "# Look at the results"
      ]
    },
    {
      "cell_type": "code",
      "execution_count": null,
      "metadata": {
        "colab": {
          "base_uri": "https://localhost:8080/"
        },
        "id": "4TMW9WVG37rS",
        "outputId": "21891a22-a886-4083-b34d-27acf31728bc"
      },
      "outputs": [
        {
          "name": "stdout",
          "output_type": "stream",
          "text": [
            "Precision:\t 0.700027570995313 \n",
            " Recall:\t 0.6476463313451994 \n",
            " F1:\t 0.5641620777014215\n"
          ]
        }
      ],
      "source": [
        "from sklearn.metrics import precision_recall_fscore_support as score\n",
        "\n",
        "#new_model = tf.keras.models.load_model('saved_model/my_model')\n",
        "\n",
        "preds_test = model.predict(test_inputs)\n",
        "y_pred_bool_test = np.argmax(preds_test, axis=1)\n",
        "\n",
        "precision, recall, fscore, support = score(Y_test, y_pred_bool_test, average='macro')\n",
        "print(\" Precision:\\t\", precision, \"\\n\", \"Recall:\\t\", recall, \"\\n\", \"F1:\\t\", fscore)"
      ]
    },
    {
      "cell_type": "code",
      "execution_count": null,
      "metadata": {
        "colab": {
          "base_uri": "https://localhost:8080/"
        },
        "id": "KmQF5gQcuFOx",
        "outputId": "c05db1e2-c4fb-4702-b106-d251566bcd74"
      },
      "outputs": [
        {
          "name": "stdout",
          "output_type": "stream",
          "text": [
            "              precision    recall  f1-score   support\n",
            "\n",
            "           0       0.99      0.98      0.99       404\n",
            "           1       0.98      0.99      0.99       396\n",
            "\n",
            "    accuracy                           0.99       800\n",
            "   macro avg       0.99      0.99      0.99       800\n",
            "weighted avg       0.99      0.99      0.99       800\n",
            "\n"
          ]
        }
      ],
      "source": [
        "from sklearn.metrics import classification_report\n",
        "\n",
        "preds_dev = model.predict(dev_inputs)\n",
        "preds_test = model.predict(test_inputs)\n",
        "\n",
        "y_pred_bool_dev = np.argmax(preds_dev, axis=1)\n",
        "y_pred_bool_test = np.argmax(preds_test, axis=1)\n",
        "\n",
        "print(classification_report(Y_dev, y_pred_bool_dev))"
      ]
    },
    {
      "cell_type": "code",
      "execution_count": null,
      "metadata": {
        "colab": {
          "base_uri": "https://localhost:8080/"
        },
        "id": "Ft0t1oYkwN1O",
        "outputId": "1a2a1d8b-633f-45d4-a9bd-e0b84c6c9a0b"
      },
      "outputs": [
        {
          "name": "stdout",
          "output_type": "stream",
          "text": [
            "              precision    recall  f1-score   support\n",
            "\n",
            "           0       0.93      0.34      0.50      1284\n",
            "           1       0.47      0.96      0.63       796\n",
            "\n",
            "    accuracy                           0.57      2080\n",
            "   macro avg       0.70      0.65      0.56      2080\n",
            "weighted avg       0.75      0.57      0.55      2080\n",
            "\n"
          ]
        }
      ],
      "source": [
        "print(classification_report(Y_test, y_pred_bool_test))"
      ]
    },
    {
      "cell_type": "markdown",
      "metadata": {
        "id": "uByGyXnLeAZR"
      },
      "source": [
        "## Prepare lists for Error Analysis by language"
      ]
    },
    {
      "cell_type": "code",
      "execution_count": null,
      "metadata": {
        "colab": {
          "base_uri": "https://localhost:8080/",
          "height": 246
        },
        "id": "-Yy8Lz23BWaT",
        "outputId": "053d5210-cb08-4d84-afc3-a037166b3108"
      },
      "outputs": [
        {
          "ename": "NameError",
          "evalue": "ignored",
          "output_type": "error",
          "traceback": [
            "\u001b[0;31m---------------------------------------------------------------------------\u001b[0m",
            "\u001b[0;31mNameError\u001b[0m                                 Traceback (most recent call last)",
            "\u001b[0;32m<ipython-input-16-ffeb89d54b3a>\u001b[0m in \u001b[0;36m<module>\u001b[0;34m()\u001b[0m\n\u001b[1;32m     20\u001b[0m \u001b[0;34m\u001b[0m\u001b[0m\n\u001b[1;32m     21\u001b[0m \u001b[0;32mfor\u001b[0m \u001b[0mi\u001b[0m \u001b[0;32min\u001b[0m \u001b[0mrange\u001b[0m\u001b[0;34m(\u001b[0m\u001b[0mlen\u001b[0m\u001b[0;34m(\u001b[0m\u001b[0mtexts\u001b[0m\u001b[0;34m)\u001b[0m\u001b[0;34m)\u001b[0m\u001b[0;34m:\u001b[0m\u001b[0;34m\u001b[0m\u001b[0;34m\u001b[0m\u001b[0m\n\u001b[0;32m---> 22\u001b[0;31m   \u001b[0;32mif\u001b[0m \u001b[0mlangid\u001b[0m\u001b[0;34m.\u001b[0m\u001b[0mclassify\u001b[0m\u001b[0;34m(\u001b[0m\u001b[0mtexts\u001b[0m\u001b[0;34m[\u001b[0m\u001b[0mi\u001b[0m\u001b[0;34m]\u001b[0m\u001b[0;34m)\u001b[0m\u001b[0;34m[\u001b[0m\u001b[0;36m0\u001b[0m\u001b[0;34m]\u001b[0m \u001b[0;34m==\u001b[0m \u001b[0;34m'en'\u001b[0m\u001b[0;34m:\u001b[0m\u001b[0;34m\u001b[0m\u001b[0;34m\u001b[0m\u001b[0m\n\u001b[0m\u001b[1;32m     23\u001b[0m     \u001b[0men_t\u001b[0m\u001b[0;34m.\u001b[0m\u001b[0mappend\u001b[0m\u001b[0;34m(\u001b[0m\u001b[0mtexts\u001b[0m\u001b[0;34m[\u001b[0m\u001b[0mi\u001b[0m\u001b[0;34m]\u001b[0m\u001b[0;34m)\u001b[0m\u001b[0;34m\u001b[0m\u001b[0;34m\u001b[0m\u001b[0m\n\u001b[1;32m     24\u001b[0m     \u001b[0men_l\u001b[0m\u001b[0;34m.\u001b[0m\u001b[0mappend\u001b[0m\u001b[0;34m(\u001b[0m\u001b[0mlabels\u001b[0m\u001b[0;34m[\u001b[0m\u001b[0mi\u001b[0m\u001b[0;34m]\u001b[0m\u001b[0;34m)\u001b[0m\u001b[0;34m\u001b[0m\u001b[0;34m\u001b[0m\u001b[0m\n",
            "\u001b[0;31mNameError\u001b[0m: name 'langid' is not defined"
          ]
        }
      ],
      "source": [
        "labels = Y_test\n",
        "preds = y_pred_bool_test\n",
        "texts = X_test\n",
        "\n",
        "ar_t = []\n",
        "ar_l = []\n",
        "ar_p = []\n",
        "\n",
        "fr_l = []\n",
        "fr_t = []\n",
        "fr_p = []\n",
        "\n",
        "es_l = []\n",
        "es_t = []\n",
        "es_p = []\n",
        "\n",
        "en_l = []\n",
        "en_t = []\n",
        "en_p = []\n",
        "\n",
        "for i in range(len(texts)):\n",
        "  if langid.classify(texts[i])[0] == 'en':\n",
        "    en_t.append(texts[i])\n",
        "    en_l.append(labels[i])\n",
        "    en_p.append(preds[i])\n",
        "  elif langid.classify(texts[i])[0] == 'es':\n",
        "    es_t.append(texts[i])\n",
        "    es_l.append(labels[i])\n",
        "    es_p.append(preds[i])\n",
        "  elif langid.classify(texts[i])[0] == 'fr':\n",
        "    fr_t.append(texts[i])\n",
        "    fr_l.append(labels[i])\n",
        "    fr_p.append(preds[i])\n",
        "  elif langid.classify(texts[i])[0] == 'ar':\n",
        "    ar_t.append(texts[i])\n",
        "    ar_l.append(labels[i])\n",
        "    fr_p.append(preds[i])"
      ]
    },
    {
      "cell_type": "markdown",
      "metadata": {
        "id": "UCcA07Pyg92O"
      },
      "source": [
        "## English results"
      ]
    },
    {
      "cell_type": "code",
      "execution_count": null,
      "metadata": {
        "id": "19tKWQkzg9Gk"
      },
      "outputs": [],
      "source": [
        "precision, recall, fscore, support = score(en_l, en_p, average='macro')\n",
        "print(\"Precision:\\t\", precision, \"\\n\", \"Recall:\\t\", recall, \"\\n\", \"F1:\\t\", fscore)"
      ]
    },
    {
      "cell_type": "code",
      "execution_count": null,
      "metadata": {
        "id": "XQin0oydhw6q"
      },
      "outputs": [],
      "source": [
        "print(classification_report(en_l, en_p))"
      ]
    },
    {
      "cell_type": "markdown",
      "metadata": {
        "id": "1Qvi3v1_hJHd"
      },
      "source": [
        "## French results"
      ]
    },
    {
      "cell_type": "code",
      "execution_count": null,
      "metadata": {
        "id": "xmNoxzzKhOgN"
      },
      "outputs": [],
      "source": [
        "precision, recall, fscore, support = score(fr_l, fr_p, average='macro')\n",
        "print(\"Precision:\\t\", precision, \"\\n\", \"Recall:\\t\", recall, \"\\n\", \"F1:\\t\", fscore)"
      ]
    },
    {
      "cell_type": "code",
      "execution_count": null,
      "metadata": {
        "id": "9GqvHZdDh4ma"
      },
      "outputs": [],
      "source": [
        "print(classification_report(fr_l, fr_p))"
      ]
    },
    {
      "cell_type": "markdown",
      "metadata": {
        "id": "W_HUYUyuhZzD"
      },
      "source": [
        "## Spanish results"
      ]
    },
    {
      "cell_type": "code",
      "execution_count": null,
      "metadata": {
        "id": "uKZVW8P3hcY5"
      },
      "outputs": [],
      "source": [
        "precision, recall, fscore, support = score(es_l, es_p, average='macro')\n",
        "print(\"Precision:\\t\", precision, \"\\n\", \"Recall:\\t\", recall, \"\\n\", \"F1:\\t\", fscore)"
      ]
    },
    {
      "cell_type": "code",
      "execution_count": null,
      "metadata": {
        "id": "w-LMissQh9F9"
      },
      "outputs": [],
      "source": [
        "print(classification_report(es_l, es_p))"
      ]
    },
    {
      "cell_type": "markdown",
      "metadata": {
        "id": "8NJRI0UZhS4a"
      },
      "source": [
        "## Arabic results"
      ]
    },
    {
      "cell_type": "code",
      "execution_count": null,
      "metadata": {
        "id": "jxoCnBoMhSaQ"
      },
      "outputs": [],
      "source": [
        "precision, recall, fscore, support = score(ar_l, ar_p, average='macro')\n",
        "print(\"Precision:\\t\", precision, \"\\n\", \"Recall:\\t\", recall, \"\\n\", \"F1:\\t\", fscore)"
      ]
    },
    {
      "cell_type": "code",
      "execution_count": null,
      "metadata": {
        "id": "rtTCbix0h_5B"
      },
      "outputs": [],
      "source": [
        "print(classification_report(ar_l, ar_p))"
      ]
    },
    {
      "cell_type": "markdown",
      "metadata": {
        "id": "2tQ5jCjk44kN"
      },
      "source": [
        "# Error analysis English"
      ]
    },
    {
      "cell_type": "code",
      "execution_count": null,
      "metadata": {
        "id": "DzFBKfEKob0K"
      },
      "outputs": [],
      "source": [
        "# false positives\n",
        "[en_t[i] for i in range(len(en_t)) if en_l[i] == 0 and en_p[i] == 1]"
      ]
    },
    {
      "cell_type": "code",
      "execution_count": null,
      "metadata": {
        "id": "z5ZDYQPApWyV"
      },
      "outputs": [],
      "source": [
        "# false negatives\n",
        "[en_t[i] for i in range(len(en_t)) if en_l[i] == 1 and en_p[i] == 0]"
      ]
    },
    {
      "cell_type": "code",
      "execution_count": null,
      "metadata": {
        "id": "byqVZBHxpcGQ"
      },
      "outputs": [],
      "source": [
        "# true negatives\n",
        "[en_t[i] for i in range(len(en_t)) if en_l[i] == 0 and en_p[i] == 0]"
      ]
    },
    {
      "cell_type": "code",
      "execution_count": null,
      "metadata": {
        "id": "vOlnjhNTqAWj"
      },
      "outputs": [],
      "source": [
        "# true positives\n",
        "[en_t[i] for i in range(len(en_t)) if en_l[i] == 1 and en_p[i] == 1]"
      ]
    },
    {
      "cell_type": "markdown",
      "metadata": {
        "id": "RmSpoeEW47_Y"
      },
      "source": [
        "# Error Analysis French"
      ]
    },
    {
      "cell_type": "code",
      "execution_count": null,
      "metadata": {
        "id": "qAbjV5mTfR71"
      },
      "outputs": [],
      "source": [
        "# false positives\n",
        "[fr_t[i] for i in range(len(fr_t)) if fr_l[i] == 0 and fr_p[i] == 1]"
      ]
    },
    {
      "cell_type": "code",
      "execution_count": null,
      "metadata": {
        "id": "ypkEeWY0fZbx"
      },
      "outputs": [],
      "source": [
        "# false negatives\n",
        "[fr_t[i] for i in range(len(fr_t)) if fr_l[i] == 1 and fr_p[i] == 0]"
      ]
    },
    {
      "cell_type": "code",
      "execution_count": null,
      "metadata": {
        "id": "H6W0QoDsfn5u"
      },
      "outputs": [],
      "source": [
        "# true negatives\n",
        "[fr_t[i] for i in range(len(fr_t)) if fr_l[i] == 0 and fr_p[i] == 0]"
      ]
    },
    {
      "cell_type": "code",
      "execution_count": null,
      "metadata": {
        "id": "SQ7nWp_1ft-D"
      },
      "outputs": [],
      "source": [
        "# true positives\n",
        "[fr_t[i] for i in range(len(fr_t)) if fr_l[i] == 1 and fr_p[i] == 1]"
      ]
    },
    {
      "cell_type": "markdown",
      "metadata": {
        "id": "1_nQ8GGI5Agt"
      },
      "source": [
        "# Error Analysis Spanish"
      ]
    },
    {
      "cell_type": "code",
      "execution_count": null,
      "metadata": {
        "id": "altIF5cUfy7A"
      },
      "outputs": [],
      "source": [
        "# false positives\n",
        "[es_t[i] for i in range(len(es_t)) if es_l[i] == 0 and es_p[i] == 1]"
      ]
    },
    {
      "cell_type": "code",
      "execution_count": null,
      "metadata": {
        "id": "aIJEVNy8f5Rt"
      },
      "outputs": [],
      "source": [
        "# false negatives\n",
        "[es_t[i] for i in range(len(es_t)) if es_l[i] == 1 and es_p[i] == 0]"
      ]
    },
    {
      "cell_type": "code",
      "execution_count": null,
      "metadata": {
        "id": "5WrWku4rf6MX"
      },
      "outputs": [],
      "source": [
        "# true negatives\n",
        "[es_t[i] for i in range(len(es_t)) if es_l[i] == 0 and es_p[i] == 0]"
      ]
    },
    {
      "cell_type": "code",
      "execution_count": null,
      "metadata": {
        "id": "vuO_QO2Yf7HL"
      },
      "outputs": [],
      "source": [
        "# true positives\n",
        "[es_t[i] for i in range(len(es_t)) if es_l[i] == 1 and es_p[i] == 1]"
      ]
    },
    {
      "cell_type": "markdown",
      "metadata": {
        "id": "IAEEGbHb5EAI"
      },
      "source": [
        "# Error Analysis Arabic"
      ]
    },
    {
      "cell_type": "code",
      "execution_count": null,
      "metadata": {
        "id": "nDt7qvzsgKR_"
      },
      "outputs": [],
      "source": [
        "# false positives\n",
        "[ar_t[i] for i in range(len(ar_t)) if ar_l[i] == 0 and ar_p[i] == 1]"
      ]
    },
    {
      "cell_type": "code",
      "execution_count": null,
      "metadata": {
        "id": "Ba6yGoHOgSFn"
      },
      "outputs": [],
      "source": [
        "# false negatives\n",
        "[ar_t[i] for i in range(len(ar_t)) if ar_l[i] == 1 and ar_p[i] == 0]"
      ]
    },
    {
      "cell_type": "code",
      "execution_count": null,
      "metadata": {
        "id": "emmug-6igZs9"
      },
      "outputs": [],
      "source": [
        "# true negatives\n",
        "[ar_t[i] for i in range(len(ar_t)) if ar_l[i] == 0 and ar_p[i] == 0]"
      ]
    },
    {
      "cell_type": "code",
      "execution_count": null,
      "metadata": {
        "id": "Qi90KMPsgcFC"
      },
      "outputs": [],
      "source": [
        "# true positives\n",
        "[ar_t[i] for i in range(len(ar_t)) if ar_l[i] == 1 and ar_p[i] == 1]"
      ]
    },
    {
      "cell_type": "code",
      "execution_count": null,
      "metadata": {
        "id": "NLlJyVPb_Mr6"
      },
      "outputs": [],
      "source": []
    }
  ],
  "metadata": {
    "accelerator": "GPU",
    "colab": {
      "collapsed_sections": [
        "UCcA07Pyg92O",
        "1Qvi3v1_hJHd",
        "W_HUYUyuhZzD",
        "8NJRI0UZhS4a",
        "2tQ5jCjk44kN",
        "RmSpoeEW47_Y",
        "1_nQ8GGI5Agt",
        "IAEEGbHb5EAI"
      ],
      "name": "BERT_for_Gratitude.ipynb",
      "provenance": []
    },
    "kernelspec": {
      "display_name": "Python 3",
      "name": "python3"
    },
    "language_info": {
      "name": "python"
    },
    "widgets": {
      "application/vnd.jupyter.widget-state+json": {
        "04e635287c3443219b805ead27484207": {
          "model_module": "@jupyter-widgets/base",
          "model_module_version": "1.2.0",
          "model_name": "LayoutModel",
          "state": {
            "_model_module": "@jupyter-widgets/base",
            "_model_module_version": "1.2.0",
            "_model_name": "LayoutModel",
            "_view_count": null,
            "_view_module": "@jupyter-widgets/base",
            "_view_module_version": "1.2.0",
            "_view_name": "LayoutView",
            "align_content": null,
            "align_items": null,
            "align_self": null,
            "border": null,
            "bottom": null,
            "display": null,
            "flex": null,
            "flex_flow": null,
            "grid_area": null,
            "grid_auto_columns": null,
            "grid_auto_flow": null,
            "grid_auto_rows": null,
            "grid_column": null,
            "grid_gap": null,
            "grid_row": null,
            "grid_template_areas": null,
            "grid_template_columns": null,
            "grid_template_rows": null,
            "height": null,
            "justify_content": null,
            "justify_items": null,
            "left": null,
            "margin": null,
            "max_height": null,
            "max_width": null,
            "min_height": null,
            "min_width": null,
            "object_fit": null,
            "object_position": null,
            "order": null,
            "overflow": null,
            "overflow_x": null,
            "overflow_y": null,
            "padding": null,
            "right": null,
            "top": null,
            "visibility": null,
            "width": null
          }
        },
        "0abbf5be646c4005bc412905257ca5e9": {
          "model_module": "@jupyter-widgets/controls",
          "model_module_version": "1.5.0",
          "model_name": "HTMLModel",
          "state": {
            "_dom_classes": [],
            "_model_module": "@jupyter-widgets/controls",
            "_model_module_version": "1.5.0",
            "_model_name": "HTMLModel",
            "_view_count": null,
            "_view_module": "@jupyter-widgets/controls",
            "_view_module_version": "1.5.0",
            "_view_name": "HTMLView",
            "description": "",
            "description_tooltip": null,
            "layout": "IPY_MODEL_04e635287c3443219b805ead27484207",
            "placeholder": "​",
            "style": "IPY_MODEL_b611e50401264186a11499a3e5b1cbee",
            "value": "Downloading: 100%"
          }
        },
        "16ee0cf031ab48c9a311395264f8cfd1": {
          "model_module": "@jupyter-widgets/controls",
          "model_module_version": "1.5.0",
          "model_name": "DescriptionStyleModel",
          "state": {
            "_model_module": "@jupyter-widgets/controls",
            "_model_module_version": "1.5.0",
            "_model_name": "DescriptionStyleModel",
            "_view_count": null,
            "_view_module": "@jupyter-widgets/base",
            "_view_module_version": "1.2.0",
            "_view_name": "StyleView",
            "description_width": ""
          }
        },
        "172fa9c8f83a42839a5354bf0736571c": {
          "model_module": "@jupyter-widgets/controls",
          "model_module_version": "1.5.0",
          "model_name": "DescriptionStyleModel",
          "state": {
            "_model_module": "@jupyter-widgets/controls",
            "_model_module_version": "1.5.0",
            "_model_name": "DescriptionStyleModel",
            "_view_count": null,
            "_view_module": "@jupyter-widgets/base",
            "_view_module_version": "1.2.0",
            "_view_name": "StyleView",
            "description_width": ""
          }
        },
        "17ce309946224b8c854b0aca937b607d": {
          "model_module": "@jupyter-widgets/controls",
          "model_module_version": "1.5.0",
          "model_name": "ProgressStyleModel",
          "state": {
            "_model_module": "@jupyter-widgets/controls",
            "_model_module_version": "1.5.0",
            "_model_name": "ProgressStyleModel",
            "_view_count": null,
            "_view_module": "@jupyter-widgets/base",
            "_view_module_version": "1.2.0",
            "_view_name": "StyleView",
            "bar_color": null,
            "description_width": ""
          }
        },
        "1bfa403baf8c41e6b5596dd37e2c8567": {
          "model_module": "@jupyter-widgets/controls",
          "model_module_version": "1.5.0",
          "model_name": "HTMLModel",
          "state": {
            "_dom_classes": [],
            "_model_module": "@jupyter-widgets/controls",
            "_model_module_version": "1.5.0",
            "_model_name": "HTMLModel",
            "_view_count": null,
            "_view_module": "@jupyter-widgets/controls",
            "_view_module_version": "1.5.0",
            "_view_name": "HTMLView",
            "description": "",
            "description_tooltip": null,
            "layout": "IPY_MODEL_c1019ab71a3348cfb32d84469627600e",
            "placeholder": "​",
            "style": "IPY_MODEL_172fa9c8f83a42839a5354bf0736571c",
            "value": " 466/466 [00:00&lt;00:00, 7.69kB/s]"
          }
        },
        "2065852d913d4afa839ad6df3b30e3bb": {
          "model_module": "@jupyter-widgets/controls",
          "model_module_version": "1.5.0",
          "model_name": "DescriptionStyleModel",
          "state": {
            "_model_module": "@jupyter-widgets/controls",
            "_model_module_version": "1.5.0",
            "_model_name": "DescriptionStyleModel",
            "_view_count": null,
            "_view_module": "@jupyter-widgets/base",
            "_view_module_version": "1.2.0",
            "_view_name": "StyleView",
            "description_width": ""
          }
        },
        "261e8174fed944fcac19468aaafe9ceb": {
          "model_module": "@jupyter-widgets/controls",
          "model_module_version": "1.5.0",
          "model_name": "HTMLModel",
          "state": {
            "_dom_classes": [],
            "_model_module": "@jupyter-widgets/controls",
            "_model_module_version": "1.5.0",
            "_model_name": "HTMLModel",
            "_view_count": null,
            "_view_module": "@jupyter-widgets/controls",
            "_view_module_version": "1.5.0",
            "_view_name": "HTMLView",
            "description": "",
            "description_tooltip": null,
            "layout": "IPY_MODEL_5787851e6fb143a18265ced22385f771",
            "placeholder": "​",
            "style": "IPY_MODEL_81a4224527bd4d88bb344410cf87f434",
            "value": " 29.0/29.0 [00:00&lt;00:00, 658B/s]"
          }
        },
        "274b457382824e6aac4e6676d4aaf31d": {
          "model_module": "@jupyter-widgets/base",
          "model_module_version": "1.2.0",
          "model_name": "LayoutModel",
          "state": {
            "_model_module": "@jupyter-widgets/base",
            "_model_module_version": "1.2.0",
            "_model_name": "LayoutModel",
            "_view_count": null,
            "_view_module": "@jupyter-widgets/base",
            "_view_module_version": "1.2.0",
            "_view_name": "LayoutView",
            "align_content": null,
            "align_items": null,
            "align_self": null,
            "border": null,
            "bottom": null,
            "display": null,
            "flex": null,
            "flex_flow": null,
            "grid_area": null,
            "grid_auto_columns": null,
            "grid_auto_flow": null,
            "grid_auto_rows": null,
            "grid_column": null,
            "grid_gap": null,
            "grid_row": null,
            "grid_template_areas": null,
            "grid_template_columns": null,
            "grid_template_rows": null,
            "height": null,
            "justify_content": null,
            "justify_items": null,
            "left": null,
            "margin": null,
            "max_height": null,
            "max_width": null,
            "min_height": null,
            "min_width": null,
            "object_fit": null,
            "object_position": null,
            "order": null,
            "overflow": null,
            "overflow_x": null,
            "overflow_y": null,
            "padding": null,
            "right": null,
            "top": null,
            "visibility": null,
            "width": null
          }
        },
        "2871dfd58a974483ba5c116ef15e76bf": {
          "model_module": "@jupyter-widgets/base",
          "model_module_version": "1.2.0",
          "model_name": "LayoutModel",
          "state": {
            "_model_module": "@jupyter-widgets/base",
            "_model_module_version": "1.2.0",
            "_model_name": "LayoutModel",
            "_view_count": null,
            "_view_module": "@jupyter-widgets/base",
            "_view_module_version": "1.2.0",
            "_view_name": "LayoutView",
            "align_content": null,
            "align_items": null,
            "align_self": null,
            "border": null,
            "bottom": null,
            "display": null,
            "flex": null,
            "flex_flow": null,
            "grid_area": null,
            "grid_auto_columns": null,
            "grid_auto_flow": null,
            "grid_auto_rows": null,
            "grid_column": null,
            "grid_gap": null,
            "grid_row": null,
            "grid_template_areas": null,
            "grid_template_columns": null,
            "grid_template_rows": null,
            "height": null,
            "justify_content": null,
            "justify_items": null,
            "left": null,
            "margin": null,
            "max_height": null,
            "max_width": null,
            "min_height": null,
            "min_width": null,
            "object_fit": null,
            "object_position": null,
            "order": null,
            "overflow": null,
            "overflow_x": null,
            "overflow_y": null,
            "padding": null,
            "right": null,
            "top": null,
            "visibility": null,
            "width": null
          }
        },
        "29aa544ce46640a594bb248cd80249dd": {
          "model_module": "@jupyter-widgets/base",
          "model_module_version": "1.2.0",
          "model_name": "LayoutModel",
          "state": {
            "_model_module": "@jupyter-widgets/base",
            "_model_module_version": "1.2.0",
            "_model_name": "LayoutModel",
            "_view_count": null,
            "_view_module": "@jupyter-widgets/base",
            "_view_module_version": "1.2.0",
            "_view_name": "LayoutView",
            "align_content": null,
            "align_items": null,
            "align_self": null,
            "border": null,
            "bottom": null,
            "display": null,
            "flex": null,
            "flex_flow": null,
            "grid_area": null,
            "grid_auto_columns": null,
            "grid_auto_flow": null,
            "grid_auto_rows": null,
            "grid_column": null,
            "grid_gap": null,
            "grid_row": null,
            "grid_template_areas": null,
            "grid_template_columns": null,
            "grid_template_rows": null,
            "height": null,
            "justify_content": null,
            "justify_items": null,
            "left": null,
            "margin": null,
            "max_height": null,
            "max_width": null,
            "min_height": null,
            "min_width": null,
            "object_fit": null,
            "object_position": null,
            "order": null,
            "overflow": null,
            "overflow_x": null,
            "overflow_y": null,
            "padding": null,
            "right": null,
            "top": null,
            "visibility": null,
            "width": null
          }
        },
        "2e4862831d8a4db5b4af83455fce77b6": {
          "model_module": "@jupyter-widgets/controls",
          "model_module_version": "1.5.0",
          "model_name": "FloatProgressModel",
          "state": {
            "_dom_classes": [],
            "_model_module": "@jupyter-widgets/controls",
            "_model_module_version": "1.5.0",
            "_model_name": "FloatProgressModel",
            "_view_count": null,
            "_view_module": "@jupyter-widgets/controls",
            "_view_module_version": "1.5.0",
            "_view_name": "ProgressView",
            "bar_style": "success",
            "description": "",
            "description_tooltip": null,
            "layout": "IPY_MODEL_29aa544ce46640a594bb248cd80249dd",
            "max": 1961828,
            "min": 0,
            "orientation": "horizontal",
            "style": "IPY_MODEL_17ce309946224b8c854b0aca937b607d",
            "value": 1961828
          }
        },
        "3641bed92c73407b9a00aaf63520c7a2": {
          "model_module": "@jupyter-widgets/controls",
          "model_module_version": "1.5.0",
          "model_name": "FloatProgressModel",
          "state": {
            "_dom_classes": [],
            "_model_module": "@jupyter-widgets/controls",
            "_model_module_version": "1.5.0",
            "_model_name": "FloatProgressModel",
            "_view_count": null,
            "_view_module": "@jupyter-widgets/controls",
            "_view_module_version": "1.5.0",
            "_view_name": "ProgressView",
            "bar_style": "success",
            "description": "",
            "description_tooltip": null,
            "layout": "IPY_MODEL_2871dfd58a974483ba5c116ef15e76bf",
            "max": 466,
            "min": 0,
            "orientation": "horizontal",
            "style": "IPY_MODEL_3ecfcffb138348b0995e50eca32cc244",
            "value": 466
          }
        },
        "36c6ab707a4642518e5951bd6e16cefc": {
          "model_module": "@jupyter-widgets/controls",
          "model_module_version": "1.5.0",
          "model_name": "DescriptionStyleModel",
          "state": {
            "_model_module": "@jupyter-widgets/controls",
            "_model_module_version": "1.5.0",
            "_model_name": "DescriptionStyleModel",
            "_view_count": null,
            "_view_module": "@jupyter-widgets/base",
            "_view_module_version": "1.2.0",
            "_view_name": "StyleView",
            "description_width": ""
          }
        },
        "393b4a28dd2f4c588c033cd3eef864ed": {
          "model_module": "@jupyter-widgets/base",
          "model_module_version": "1.2.0",
          "model_name": "LayoutModel",
          "state": {
            "_model_module": "@jupyter-widgets/base",
            "_model_module_version": "1.2.0",
            "_model_name": "LayoutModel",
            "_view_count": null,
            "_view_module": "@jupyter-widgets/base",
            "_view_module_version": "1.2.0",
            "_view_name": "LayoutView",
            "align_content": null,
            "align_items": null,
            "align_self": null,
            "border": null,
            "bottom": null,
            "display": null,
            "flex": null,
            "flex_flow": null,
            "grid_area": null,
            "grid_auto_columns": null,
            "grid_auto_flow": null,
            "grid_auto_rows": null,
            "grid_column": null,
            "grid_gap": null,
            "grid_row": null,
            "grid_template_areas": null,
            "grid_template_columns": null,
            "grid_template_rows": null,
            "height": null,
            "justify_content": null,
            "justify_items": null,
            "left": null,
            "margin": null,
            "max_height": null,
            "max_width": null,
            "min_height": null,
            "min_width": null,
            "object_fit": null,
            "object_position": null,
            "order": null,
            "overflow": null,
            "overflow_x": null,
            "overflow_y": null,
            "padding": null,
            "right": null,
            "top": null,
            "visibility": null,
            "width": null
          }
        },
        "3ecfcffb138348b0995e50eca32cc244": {
          "model_module": "@jupyter-widgets/controls",
          "model_module_version": "1.5.0",
          "model_name": "ProgressStyleModel",
          "state": {
            "_model_module": "@jupyter-widgets/controls",
            "_model_module_version": "1.5.0",
            "_model_name": "ProgressStyleModel",
            "_view_count": null,
            "_view_module": "@jupyter-widgets/base",
            "_view_module_version": "1.2.0",
            "_view_name": "StyleView",
            "bar_color": null,
            "description_width": ""
          }
        },
        "49d4432dccb645f7a26c44bdaed6d434": {
          "model_module": "@jupyter-widgets/controls",
          "model_module_version": "1.5.0",
          "model_name": "HTMLModel",
          "state": {
            "_dom_classes": [],
            "_model_module": "@jupyter-widgets/controls",
            "_model_module_version": "1.5.0",
            "_model_name": "HTMLModel",
            "_view_count": null,
            "_view_module": "@jupyter-widgets/controls",
            "_view_module_version": "1.5.0",
            "_view_name": "HTMLView",
            "description": "",
            "description_tooltip": null,
            "layout": "IPY_MODEL_d465d0088c214554a73b93be11dd35ba",
            "placeholder": "​",
            "style": "IPY_MODEL_a29ffa4c2f0d48fd878b16777b6c8637",
            "value": "Downloading: 100%"
          }
        },
        "515f14cb10dc4e70aeedba8728554fb5": {
          "model_module": "@jupyter-widgets/controls",
          "model_module_version": "1.5.0",
          "model_name": "HTMLModel",
          "state": {
            "_dom_classes": [],
            "_model_module": "@jupyter-widgets/controls",
            "_model_module_version": "1.5.0",
            "_model_name": "HTMLModel",
            "_view_count": null,
            "_view_module": "@jupyter-widgets/controls",
            "_view_module_version": "1.5.0",
            "_view_name": "HTMLView",
            "description": "",
            "description_tooltip": null,
            "layout": "IPY_MODEL_6f716b7be2114ccd8a79bcb68dcf037d",
            "placeholder": "​",
            "style": "IPY_MODEL_36c6ab707a4642518e5951bd6e16cefc",
            "value": "Downloading: 100%"
          }
        },
        "56e7aafb7fac40b4954d45a6ab082b30": {
          "model_module": "@jupyter-widgets/controls",
          "model_module_version": "1.5.0",
          "model_name": "FloatProgressModel",
          "state": {
            "_dom_classes": [],
            "_model_module": "@jupyter-widgets/controls",
            "_model_module_version": "1.5.0",
            "_model_name": "FloatProgressModel",
            "_view_count": null,
            "_view_module": "@jupyter-widgets/controls",
            "_view_module_version": "1.5.0",
            "_view_name": "ProgressView",
            "bar_style": "success",
            "description": "",
            "description_tooltip": null,
            "layout": "IPY_MODEL_e7d30d774c794328a879b7350cf19db0",
            "max": 910749124,
            "min": 0,
            "orientation": "horizontal",
            "style": "IPY_MODEL_964e8b443ab94a238800c7ff5d8ccb57",
            "value": 910749124
          }
        },
        "5787851e6fb143a18265ced22385f771": {
          "model_module": "@jupyter-widgets/base",
          "model_module_version": "1.2.0",
          "model_name": "LayoutModel",
          "state": {
            "_model_module": "@jupyter-widgets/base",
            "_model_module_version": "1.2.0",
            "_model_name": "LayoutModel",
            "_view_count": null,
            "_view_module": "@jupyter-widgets/base",
            "_view_module_version": "1.2.0",
            "_view_name": "LayoutView",
            "align_content": null,
            "align_items": null,
            "align_self": null,
            "border": null,
            "bottom": null,
            "display": null,
            "flex": null,
            "flex_flow": null,
            "grid_area": null,
            "grid_auto_columns": null,
            "grid_auto_flow": null,
            "grid_auto_rows": null,
            "grid_column": null,
            "grid_gap": null,
            "grid_row": null,
            "grid_template_areas": null,
            "grid_template_columns": null,
            "grid_template_rows": null,
            "height": null,
            "justify_content": null,
            "justify_items": null,
            "left": null,
            "margin": null,
            "max_height": null,
            "max_width": null,
            "min_height": null,
            "min_width": null,
            "object_fit": null,
            "object_position": null,
            "order": null,
            "overflow": null,
            "overflow_x": null,
            "overflow_y": null,
            "padding": null,
            "right": null,
            "top": null,
            "visibility": null,
            "width": null
          }
        },
        "5d503270005e4b70bde3e89e4feaff0a": {
          "model_module": "@jupyter-widgets/controls",
          "model_module_version": "1.5.0",
          "model_name": "HTMLModel",
          "state": {
            "_dom_classes": [],
            "_model_module": "@jupyter-widgets/controls",
            "_model_module_version": "1.5.0",
            "_model_name": "HTMLModel",
            "_view_count": null,
            "_view_module": "@jupyter-widgets/controls",
            "_view_module_version": "1.5.0",
            "_view_name": "HTMLView",
            "description": "",
            "description_tooltip": null,
            "layout": "IPY_MODEL_9a828afc0f714433b5504b98738ee282",
            "placeholder": "​",
            "style": "IPY_MODEL_ccc14ec223014c55b6d6bf1b4dfd77c7",
            "value": "Downloading: 100%"
          }
        },
        "6a453e64dd854c39b296d387f2886a90": {
          "model_module": "@jupyter-widgets/base",
          "model_module_version": "1.2.0",
          "model_name": "LayoutModel",
          "state": {
            "_model_module": "@jupyter-widgets/base",
            "_model_module_version": "1.2.0",
            "_model_name": "LayoutModel",
            "_view_count": null,
            "_view_module": "@jupyter-widgets/base",
            "_view_module_version": "1.2.0",
            "_view_name": "LayoutView",
            "align_content": null,
            "align_items": null,
            "align_self": null,
            "border": null,
            "bottom": null,
            "display": null,
            "flex": null,
            "flex_flow": null,
            "grid_area": null,
            "grid_auto_columns": null,
            "grid_auto_flow": null,
            "grid_auto_rows": null,
            "grid_column": null,
            "grid_gap": null,
            "grid_row": null,
            "grid_template_areas": null,
            "grid_template_columns": null,
            "grid_template_rows": null,
            "height": null,
            "justify_content": null,
            "justify_items": null,
            "left": null,
            "margin": null,
            "max_height": null,
            "max_width": null,
            "min_height": null,
            "min_width": null,
            "object_fit": null,
            "object_position": null,
            "order": null,
            "overflow": null,
            "overflow_x": null,
            "overflow_y": null,
            "padding": null,
            "right": null,
            "top": null,
            "visibility": null,
            "width": null
          }
        },
        "6a5911e87c4c418ca4693062e81995e5": {
          "model_module": "@jupyter-widgets/base",
          "model_module_version": "1.2.0",
          "model_name": "LayoutModel",
          "state": {
            "_model_module": "@jupyter-widgets/base",
            "_model_module_version": "1.2.0",
            "_model_name": "LayoutModel",
            "_view_count": null,
            "_view_module": "@jupyter-widgets/base",
            "_view_module_version": "1.2.0",
            "_view_name": "LayoutView",
            "align_content": null,
            "align_items": null,
            "align_self": null,
            "border": null,
            "bottom": null,
            "display": null,
            "flex": null,
            "flex_flow": null,
            "grid_area": null,
            "grid_auto_columns": null,
            "grid_auto_flow": null,
            "grid_auto_rows": null,
            "grid_column": null,
            "grid_gap": null,
            "grid_row": null,
            "grid_template_areas": null,
            "grid_template_columns": null,
            "grid_template_rows": null,
            "height": null,
            "justify_content": null,
            "justify_items": null,
            "left": null,
            "margin": null,
            "max_height": null,
            "max_width": null,
            "min_height": null,
            "min_width": null,
            "object_fit": null,
            "object_position": null,
            "order": null,
            "overflow": null,
            "overflow_x": null,
            "overflow_y": null,
            "padding": null,
            "right": null,
            "top": null,
            "visibility": null,
            "width": null
          }
        },
        "6be0fb69dead431e95c4ee2d6f3420e2": {
          "model_module": "@jupyter-widgets/controls",
          "model_module_version": "1.5.0",
          "model_name": "FloatProgressModel",
          "state": {
            "_dom_classes": [],
            "_model_module": "@jupyter-widgets/controls",
            "_model_module_version": "1.5.0",
            "_model_name": "FloatProgressModel",
            "_view_count": null,
            "_view_module": "@jupyter-widgets/controls",
            "_view_module_version": "1.5.0",
            "_view_name": "ProgressView",
            "bar_style": "success",
            "description": "",
            "description_tooltip": null,
            "layout": "IPY_MODEL_6a453e64dd854c39b296d387f2886a90",
            "max": 995526,
            "min": 0,
            "orientation": "horizontal",
            "style": "IPY_MODEL_d27c7ecbffe5405fb08a9ff3af54c84b",
            "value": 995526
          }
        },
        "6c3ec69e194f434ca828cc8651e948e2": {
          "model_module": "@jupyter-widgets/controls",
          "model_module_version": "1.5.0",
          "model_name": "HTMLModel",
          "state": {
            "_dom_classes": [],
            "_model_module": "@jupyter-widgets/controls",
            "_model_module_version": "1.5.0",
            "_model_name": "HTMLModel",
            "_view_count": null,
            "_view_module": "@jupyter-widgets/controls",
            "_view_module_version": "1.5.0",
            "_view_name": "HTMLView",
            "description": "",
            "description_tooltip": null,
            "layout": "IPY_MODEL_af2990edb53743f8ba06ca16121ede7b",
            "placeholder": "​",
            "style": "IPY_MODEL_16ee0cf031ab48c9a311395264f8cfd1",
            "value": " 1.87M/1.87M [00:00&lt;00:00, 4.61MB/s]"
          }
        },
        "6f716b7be2114ccd8a79bcb68dcf037d": {
          "model_module": "@jupyter-widgets/base",
          "model_module_version": "1.2.0",
          "model_name": "LayoutModel",
          "state": {
            "_model_module": "@jupyter-widgets/base",
            "_model_module_version": "1.2.0",
            "_model_name": "LayoutModel",
            "_view_count": null,
            "_view_module": "@jupyter-widgets/base",
            "_view_module_version": "1.2.0",
            "_view_name": "LayoutView",
            "align_content": null,
            "align_items": null,
            "align_self": null,
            "border": null,
            "bottom": null,
            "display": null,
            "flex": null,
            "flex_flow": null,
            "grid_area": null,
            "grid_auto_columns": null,
            "grid_auto_flow": null,
            "grid_auto_rows": null,
            "grid_column": null,
            "grid_gap": null,
            "grid_row": null,
            "grid_template_areas": null,
            "grid_template_columns": null,
            "grid_template_rows": null,
            "height": null,
            "justify_content": null,
            "justify_items": null,
            "left": null,
            "margin": null,
            "max_height": null,
            "max_width": null,
            "min_height": null,
            "min_width": null,
            "object_fit": null,
            "object_position": null,
            "order": null,
            "overflow": null,
            "overflow_x": null,
            "overflow_y": null,
            "padding": null,
            "right": null,
            "top": null,
            "visibility": null,
            "width": null
          }
        },
        "736528ad9a2045c284c9a5cdb9e03635": {
          "model_module": "@jupyter-widgets/controls",
          "model_module_version": "1.5.0",
          "model_name": "HBoxModel",
          "state": {
            "_dom_classes": [],
            "_model_module": "@jupyter-widgets/controls",
            "_model_module_version": "1.5.0",
            "_model_name": "HBoxModel",
            "_view_count": null,
            "_view_module": "@jupyter-widgets/controls",
            "_view_module_version": "1.5.0",
            "_view_name": "HBoxView",
            "box_style": "",
            "children": [
              "IPY_MODEL_49d4432dccb645f7a26c44bdaed6d434",
              "IPY_MODEL_56e7aafb7fac40b4954d45a6ab082b30",
              "IPY_MODEL_9708990cb48745228df76b2729c8af15"
            ],
            "layout": "IPY_MODEL_cfdb80f055b34eaa9b567a4c94541fcc"
          }
        },
        "74f54908c9864d00815bf9a772bd1cb5": {
          "model_module": "@jupyter-widgets/controls",
          "model_module_version": "1.5.0",
          "model_name": "ProgressStyleModel",
          "state": {
            "_model_module": "@jupyter-widgets/controls",
            "_model_module_version": "1.5.0",
            "_model_name": "ProgressStyleModel",
            "_view_count": null,
            "_view_module": "@jupyter-widgets/base",
            "_view_module_version": "1.2.0",
            "_view_name": "StyleView",
            "bar_color": null,
            "description_width": ""
          }
        },
        "81a4224527bd4d88bb344410cf87f434": {
          "model_module": "@jupyter-widgets/controls",
          "model_module_version": "1.5.0",
          "model_name": "DescriptionStyleModel",
          "state": {
            "_model_module": "@jupyter-widgets/controls",
            "_model_module_version": "1.5.0",
            "_model_name": "DescriptionStyleModel",
            "_view_count": null,
            "_view_module": "@jupyter-widgets/base",
            "_view_module_version": "1.2.0",
            "_view_name": "StyleView",
            "description_width": ""
          }
        },
        "89b9622c82c7485bb84f302ead84172a": {
          "model_module": "@jupyter-widgets/controls",
          "model_module_version": "1.5.0",
          "model_name": "HBoxModel",
          "state": {
            "_dom_classes": [],
            "_model_module": "@jupyter-widgets/controls",
            "_model_module_version": "1.5.0",
            "_model_name": "HBoxModel",
            "_view_count": null,
            "_view_module": "@jupyter-widgets/controls",
            "_view_module_version": "1.5.0",
            "_view_name": "HBoxView",
            "box_style": "",
            "children": [
              "IPY_MODEL_515f14cb10dc4e70aeedba8728554fb5",
              "IPY_MODEL_6be0fb69dead431e95c4ee2d6f3420e2",
              "IPY_MODEL_cc5446093eca47dd8b56788eca6528d8"
            ],
            "layout": "IPY_MODEL_393b4a28dd2f4c588c033cd3eef864ed"
          }
        },
        "964e8b443ab94a238800c7ff5d8ccb57": {
          "model_module": "@jupyter-widgets/controls",
          "model_module_version": "1.5.0",
          "model_name": "ProgressStyleModel",
          "state": {
            "_model_module": "@jupyter-widgets/controls",
            "_model_module_version": "1.5.0",
            "_model_name": "ProgressStyleModel",
            "_view_count": null,
            "_view_module": "@jupyter-widgets/base",
            "_view_module_version": "1.2.0",
            "_view_name": "StyleView",
            "bar_color": null,
            "description_width": ""
          }
        },
        "9708990cb48745228df76b2729c8af15": {
          "model_module": "@jupyter-widgets/controls",
          "model_module_version": "1.5.0",
          "model_name": "HTMLModel",
          "state": {
            "_dom_classes": [],
            "_model_module": "@jupyter-widgets/controls",
            "_model_module_version": "1.5.0",
            "_model_name": "HTMLModel",
            "_view_count": null,
            "_view_module": "@jupyter-widgets/controls",
            "_view_module_version": "1.5.0",
            "_view_name": "HTMLView",
            "description": "",
            "description_tooltip": null,
            "layout": "IPY_MODEL_d4625bc1647f4b52a635b1ec006d035d",
            "placeholder": "​",
            "style": "IPY_MODEL_9a7bf58d528f4324aef52e1400d310a4",
            "value": " 869M/869M [00:27&lt;00:00, 35.3MB/s]"
          }
        },
        "9a7bf58d528f4324aef52e1400d310a4": {
          "model_module": "@jupyter-widgets/controls",
          "model_module_version": "1.5.0",
          "model_name": "DescriptionStyleModel",
          "state": {
            "_model_module": "@jupyter-widgets/controls",
            "_model_module_version": "1.5.0",
            "_model_name": "DescriptionStyleModel",
            "_view_count": null,
            "_view_module": "@jupyter-widgets/base",
            "_view_module_version": "1.2.0",
            "_view_name": "StyleView",
            "description_width": ""
          }
        },
        "9a828afc0f714433b5504b98738ee282": {
          "model_module": "@jupyter-widgets/base",
          "model_module_version": "1.2.0",
          "model_name": "LayoutModel",
          "state": {
            "_model_module": "@jupyter-widgets/base",
            "_model_module_version": "1.2.0",
            "_model_name": "LayoutModel",
            "_view_count": null,
            "_view_module": "@jupyter-widgets/base",
            "_view_module_version": "1.2.0",
            "_view_name": "LayoutView",
            "align_content": null,
            "align_items": null,
            "align_self": null,
            "border": null,
            "bottom": null,
            "display": null,
            "flex": null,
            "flex_flow": null,
            "grid_area": null,
            "grid_auto_columns": null,
            "grid_auto_flow": null,
            "grid_auto_rows": null,
            "grid_column": null,
            "grid_gap": null,
            "grid_row": null,
            "grid_template_areas": null,
            "grid_template_columns": null,
            "grid_template_rows": null,
            "height": null,
            "justify_content": null,
            "justify_items": null,
            "left": null,
            "margin": null,
            "max_height": null,
            "max_width": null,
            "min_height": null,
            "min_width": null,
            "object_fit": null,
            "object_position": null,
            "order": null,
            "overflow": null,
            "overflow_x": null,
            "overflow_y": null,
            "padding": null,
            "right": null,
            "top": null,
            "visibility": null,
            "width": null
          }
        },
        "a29ffa4c2f0d48fd878b16777b6c8637": {
          "model_module": "@jupyter-widgets/controls",
          "model_module_version": "1.5.0",
          "model_name": "DescriptionStyleModel",
          "state": {
            "_model_module": "@jupyter-widgets/controls",
            "_model_module_version": "1.5.0",
            "_model_name": "DescriptionStyleModel",
            "_view_count": null,
            "_view_module": "@jupyter-widgets/base",
            "_view_module_version": "1.2.0",
            "_view_name": "StyleView",
            "description_width": ""
          }
        },
        "a6b4d8f17e33421e8bc380fa8edefa28": {
          "model_module": "@jupyter-widgets/controls",
          "model_module_version": "1.5.0",
          "model_name": "DescriptionStyleModel",
          "state": {
            "_model_module": "@jupyter-widgets/controls",
            "_model_module_version": "1.5.0",
            "_model_name": "DescriptionStyleModel",
            "_view_count": null,
            "_view_module": "@jupyter-widgets/base",
            "_view_module_version": "1.2.0",
            "_view_name": "StyleView",
            "description_width": ""
          }
        },
        "aded0165cf3e411eada1f4b411bdaaf1": {
          "model_module": "@jupyter-widgets/controls",
          "model_module_version": "1.5.0",
          "model_name": "FloatProgressModel",
          "state": {
            "_dom_classes": [],
            "_model_module": "@jupyter-widgets/controls",
            "_model_module_version": "1.5.0",
            "_model_name": "FloatProgressModel",
            "_view_count": null,
            "_view_module": "@jupyter-widgets/controls",
            "_view_module_version": "1.5.0",
            "_view_name": "ProgressView",
            "bar_style": "success",
            "description": "",
            "description_tooltip": null,
            "layout": "IPY_MODEL_ea258db3126147cf9e4e63adc0153509",
            "max": 29,
            "min": 0,
            "orientation": "horizontal",
            "style": "IPY_MODEL_74f54908c9864d00815bf9a772bd1cb5",
            "value": 29
          }
        },
        "af2990edb53743f8ba06ca16121ede7b": {
          "model_module": "@jupyter-widgets/base",
          "model_module_version": "1.2.0",
          "model_name": "LayoutModel",
          "state": {
            "_model_module": "@jupyter-widgets/base",
            "_model_module_version": "1.2.0",
            "_model_name": "LayoutModel",
            "_view_count": null,
            "_view_module": "@jupyter-widgets/base",
            "_view_module_version": "1.2.0",
            "_view_name": "LayoutView",
            "align_content": null,
            "align_items": null,
            "align_self": null,
            "border": null,
            "bottom": null,
            "display": null,
            "flex": null,
            "flex_flow": null,
            "grid_area": null,
            "grid_auto_columns": null,
            "grid_auto_flow": null,
            "grid_auto_rows": null,
            "grid_column": null,
            "grid_gap": null,
            "grid_row": null,
            "grid_template_areas": null,
            "grid_template_columns": null,
            "grid_template_rows": null,
            "height": null,
            "justify_content": null,
            "justify_items": null,
            "left": null,
            "margin": null,
            "max_height": null,
            "max_width": null,
            "min_height": null,
            "min_width": null,
            "object_fit": null,
            "object_position": null,
            "order": null,
            "overflow": null,
            "overflow_x": null,
            "overflow_y": null,
            "padding": null,
            "right": null,
            "top": null,
            "visibility": null,
            "width": null
          }
        },
        "b611e50401264186a11499a3e5b1cbee": {
          "model_module": "@jupyter-widgets/controls",
          "model_module_version": "1.5.0",
          "model_name": "DescriptionStyleModel",
          "state": {
            "_model_module": "@jupyter-widgets/controls",
            "_model_module_version": "1.5.0",
            "_model_name": "DescriptionStyleModel",
            "_view_count": null,
            "_view_module": "@jupyter-widgets/base",
            "_view_module_version": "1.2.0",
            "_view_name": "StyleView",
            "description_width": ""
          }
        },
        "bc6977dc40834a35ad65eaa52faa88c7": {
          "model_module": "@jupyter-widgets/controls",
          "model_module_version": "1.5.0",
          "model_name": "HTMLModel",
          "state": {
            "_dom_classes": [],
            "_model_module": "@jupyter-widgets/controls",
            "_model_module_version": "1.5.0",
            "_model_name": "HTMLModel",
            "_view_count": null,
            "_view_module": "@jupyter-widgets/controls",
            "_view_module_version": "1.5.0",
            "_view_name": "HTMLView",
            "description": "",
            "description_tooltip": null,
            "layout": "IPY_MODEL_eaf045854c124df8b5fd1a1a78c9d786",
            "placeholder": "​",
            "style": "IPY_MODEL_2065852d913d4afa839ad6df3b30e3bb",
            "value": "Downloading: 100%"
          }
        },
        "c1019ab71a3348cfb32d84469627600e": {
          "model_module": "@jupyter-widgets/base",
          "model_module_version": "1.2.0",
          "model_name": "LayoutModel",
          "state": {
            "_model_module": "@jupyter-widgets/base",
            "_model_module_version": "1.2.0",
            "_model_name": "LayoutModel",
            "_view_count": null,
            "_view_module": "@jupyter-widgets/base",
            "_view_module_version": "1.2.0",
            "_view_name": "LayoutView",
            "align_content": null,
            "align_items": null,
            "align_self": null,
            "border": null,
            "bottom": null,
            "display": null,
            "flex": null,
            "flex_flow": null,
            "grid_area": null,
            "grid_auto_columns": null,
            "grid_auto_flow": null,
            "grid_auto_rows": null,
            "grid_column": null,
            "grid_gap": null,
            "grid_row": null,
            "grid_template_areas": null,
            "grid_template_columns": null,
            "grid_template_rows": null,
            "height": null,
            "justify_content": null,
            "justify_items": null,
            "left": null,
            "margin": null,
            "max_height": null,
            "max_width": null,
            "min_height": null,
            "min_width": null,
            "object_fit": null,
            "object_position": null,
            "order": null,
            "overflow": null,
            "overflow_x": null,
            "overflow_y": null,
            "padding": null,
            "right": null,
            "top": null,
            "visibility": null,
            "width": null
          }
        },
        "ca3e80113ebe4ffb96396e1e30191133": {
          "model_module": "@jupyter-widgets/controls",
          "model_module_version": "1.5.0",
          "model_name": "HBoxModel",
          "state": {
            "_dom_classes": [],
            "_model_module": "@jupyter-widgets/controls",
            "_model_module_version": "1.5.0",
            "_model_name": "HBoxModel",
            "_view_count": null,
            "_view_module": "@jupyter-widgets/controls",
            "_view_module_version": "1.5.0",
            "_view_name": "HBoxView",
            "box_style": "",
            "children": [
              "IPY_MODEL_bc6977dc40834a35ad65eaa52faa88c7",
              "IPY_MODEL_3641bed92c73407b9a00aaf63520c7a2",
              "IPY_MODEL_1bfa403baf8c41e6b5596dd37e2c8567"
            ],
            "layout": "IPY_MODEL_6a5911e87c4c418ca4693062e81995e5"
          }
        },
        "cc5446093eca47dd8b56788eca6528d8": {
          "model_module": "@jupyter-widgets/controls",
          "model_module_version": "1.5.0",
          "model_name": "HTMLModel",
          "state": {
            "_dom_classes": [],
            "_model_module": "@jupyter-widgets/controls",
            "_model_module_version": "1.5.0",
            "_model_name": "HTMLModel",
            "_view_count": null,
            "_view_module": "@jupyter-widgets/controls",
            "_view_module_version": "1.5.0",
            "_view_name": "HTMLView",
            "description": "",
            "description_tooltip": null,
            "layout": "IPY_MODEL_fbeb19f370154dc29ada1192e6dc467a",
            "placeholder": "​",
            "style": "IPY_MODEL_a6b4d8f17e33421e8bc380fa8edefa28",
            "value": " 972k/972k [00:00&lt;00:00, 1.03MB/s]"
          }
        },
        "ccc14ec223014c55b6d6bf1b4dfd77c7": {
          "model_module": "@jupyter-widgets/controls",
          "model_module_version": "1.5.0",
          "model_name": "DescriptionStyleModel",
          "state": {
            "_model_module": "@jupyter-widgets/controls",
            "_model_module_version": "1.5.0",
            "_model_name": "DescriptionStyleModel",
            "_view_count": null,
            "_view_module": "@jupyter-widgets/base",
            "_view_module_version": "1.2.0",
            "_view_name": "StyleView",
            "description_width": ""
          }
        },
        "cfdb80f055b34eaa9b567a4c94541fcc": {
          "model_module": "@jupyter-widgets/base",
          "model_module_version": "1.2.0",
          "model_name": "LayoutModel",
          "state": {
            "_model_module": "@jupyter-widgets/base",
            "_model_module_version": "1.2.0",
            "_model_name": "LayoutModel",
            "_view_count": null,
            "_view_module": "@jupyter-widgets/base",
            "_view_module_version": "1.2.0",
            "_view_name": "LayoutView",
            "align_content": null,
            "align_items": null,
            "align_self": null,
            "border": null,
            "bottom": null,
            "display": null,
            "flex": null,
            "flex_flow": null,
            "grid_area": null,
            "grid_auto_columns": null,
            "grid_auto_flow": null,
            "grid_auto_rows": null,
            "grid_column": null,
            "grid_gap": null,
            "grid_row": null,
            "grid_template_areas": null,
            "grid_template_columns": null,
            "grid_template_rows": null,
            "height": null,
            "justify_content": null,
            "justify_items": null,
            "left": null,
            "margin": null,
            "max_height": null,
            "max_width": null,
            "min_height": null,
            "min_width": null,
            "object_fit": null,
            "object_position": null,
            "order": null,
            "overflow": null,
            "overflow_x": null,
            "overflow_y": null,
            "padding": null,
            "right": null,
            "top": null,
            "visibility": null,
            "width": null
          }
        },
        "d27c7ecbffe5405fb08a9ff3af54c84b": {
          "model_module": "@jupyter-widgets/controls",
          "model_module_version": "1.5.0",
          "model_name": "ProgressStyleModel",
          "state": {
            "_model_module": "@jupyter-widgets/controls",
            "_model_module_version": "1.5.0",
            "_model_name": "ProgressStyleModel",
            "_view_count": null,
            "_view_module": "@jupyter-widgets/base",
            "_view_module_version": "1.2.0",
            "_view_name": "StyleView",
            "bar_color": null,
            "description_width": ""
          }
        },
        "d4625bc1647f4b52a635b1ec006d035d": {
          "model_module": "@jupyter-widgets/base",
          "model_module_version": "1.2.0",
          "model_name": "LayoutModel",
          "state": {
            "_model_module": "@jupyter-widgets/base",
            "_model_module_version": "1.2.0",
            "_model_name": "LayoutModel",
            "_view_count": null,
            "_view_module": "@jupyter-widgets/base",
            "_view_module_version": "1.2.0",
            "_view_name": "LayoutView",
            "align_content": null,
            "align_items": null,
            "align_self": null,
            "border": null,
            "bottom": null,
            "display": null,
            "flex": null,
            "flex_flow": null,
            "grid_area": null,
            "grid_auto_columns": null,
            "grid_auto_flow": null,
            "grid_auto_rows": null,
            "grid_column": null,
            "grid_gap": null,
            "grid_row": null,
            "grid_template_areas": null,
            "grid_template_columns": null,
            "grid_template_rows": null,
            "height": null,
            "justify_content": null,
            "justify_items": null,
            "left": null,
            "margin": null,
            "max_height": null,
            "max_width": null,
            "min_height": null,
            "min_width": null,
            "object_fit": null,
            "object_position": null,
            "order": null,
            "overflow": null,
            "overflow_x": null,
            "overflow_y": null,
            "padding": null,
            "right": null,
            "top": null,
            "visibility": null,
            "width": null
          }
        },
        "d465d0088c214554a73b93be11dd35ba": {
          "model_module": "@jupyter-widgets/base",
          "model_module_version": "1.2.0",
          "model_name": "LayoutModel",
          "state": {
            "_model_module": "@jupyter-widgets/base",
            "_model_module_version": "1.2.0",
            "_model_name": "LayoutModel",
            "_view_count": null,
            "_view_module": "@jupyter-widgets/base",
            "_view_module_version": "1.2.0",
            "_view_name": "LayoutView",
            "align_content": null,
            "align_items": null,
            "align_self": null,
            "border": null,
            "bottom": null,
            "display": null,
            "flex": null,
            "flex_flow": null,
            "grid_area": null,
            "grid_auto_columns": null,
            "grid_auto_flow": null,
            "grid_auto_rows": null,
            "grid_column": null,
            "grid_gap": null,
            "grid_row": null,
            "grid_template_areas": null,
            "grid_template_columns": null,
            "grid_template_rows": null,
            "height": null,
            "justify_content": null,
            "justify_items": null,
            "left": null,
            "margin": null,
            "max_height": null,
            "max_width": null,
            "min_height": null,
            "min_width": null,
            "object_fit": null,
            "object_position": null,
            "order": null,
            "overflow": null,
            "overflow_x": null,
            "overflow_y": null,
            "padding": null,
            "right": null,
            "top": null,
            "visibility": null,
            "width": null
          }
        },
        "e7d30d774c794328a879b7350cf19db0": {
          "model_module": "@jupyter-widgets/base",
          "model_module_version": "1.2.0",
          "model_name": "LayoutModel",
          "state": {
            "_model_module": "@jupyter-widgets/base",
            "_model_module_version": "1.2.0",
            "_model_name": "LayoutModel",
            "_view_count": null,
            "_view_module": "@jupyter-widgets/base",
            "_view_module_version": "1.2.0",
            "_view_name": "LayoutView",
            "align_content": null,
            "align_items": null,
            "align_self": null,
            "border": null,
            "bottom": null,
            "display": null,
            "flex": null,
            "flex_flow": null,
            "grid_area": null,
            "grid_auto_columns": null,
            "grid_auto_flow": null,
            "grid_auto_rows": null,
            "grid_column": null,
            "grid_gap": null,
            "grid_row": null,
            "grid_template_areas": null,
            "grid_template_columns": null,
            "grid_template_rows": null,
            "height": null,
            "justify_content": null,
            "justify_items": null,
            "left": null,
            "margin": null,
            "max_height": null,
            "max_width": null,
            "min_height": null,
            "min_width": null,
            "object_fit": null,
            "object_position": null,
            "order": null,
            "overflow": null,
            "overflow_x": null,
            "overflow_y": null,
            "padding": null,
            "right": null,
            "top": null,
            "visibility": null,
            "width": null
          }
        },
        "ea258db3126147cf9e4e63adc0153509": {
          "model_module": "@jupyter-widgets/base",
          "model_module_version": "1.2.0",
          "model_name": "LayoutModel",
          "state": {
            "_model_module": "@jupyter-widgets/base",
            "_model_module_version": "1.2.0",
            "_model_name": "LayoutModel",
            "_view_count": null,
            "_view_module": "@jupyter-widgets/base",
            "_view_module_version": "1.2.0",
            "_view_name": "LayoutView",
            "align_content": null,
            "align_items": null,
            "align_self": null,
            "border": null,
            "bottom": null,
            "display": null,
            "flex": null,
            "flex_flow": null,
            "grid_area": null,
            "grid_auto_columns": null,
            "grid_auto_flow": null,
            "grid_auto_rows": null,
            "grid_column": null,
            "grid_gap": null,
            "grid_row": null,
            "grid_template_areas": null,
            "grid_template_columns": null,
            "grid_template_rows": null,
            "height": null,
            "justify_content": null,
            "justify_items": null,
            "left": null,
            "margin": null,
            "max_height": null,
            "max_width": null,
            "min_height": null,
            "min_width": null,
            "object_fit": null,
            "object_position": null,
            "order": null,
            "overflow": null,
            "overflow_x": null,
            "overflow_y": null,
            "padding": null,
            "right": null,
            "top": null,
            "visibility": null,
            "width": null
          }
        },
        "eaf045854c124df8b5fd1a1a78c9d786": {
          "model_module": "@jupyter-widgets/base",
          "model_module_version": "1.2.0",
          "model_name": "LayoutModel",
          "state": {
            "_model_module": "@jupyter-widgets/base",
            "_model_module_version": "1.2.0",
            "_model_name": "LayoutModel",
            "_view_count": null,
            "_view_module": "@jupyter-widgets/base",
            "_view_module_version": "1.2.0",
            "_view_name": "LayoutView",
            "align_content": null,
            "align_items": null,
            "align_self": null,
            "border": null,
            "bottom": null,
            "display": null,
            "flex": null,
            "flex_flow": null,
            "grid_area": null,
            "grid_auto_columns": null,
            "grid_auto_flow": null,
            "grid_auto_rows": null,
            "grid_column": null,
            "grid_gap": null,
            "grid_row": null,
            "grid_template_areas": null,
            "grid_template_columns": null,
            "grid_template_rows": null,
            "height": null,
            "justify_content": null,
            "justify_items": null,
            "left": null,
            "margin": null,
            "max_height": null,
            "max_width": null,
            "min_height": null,
            "min_width": null,
            "object_fit": null,
            "object_position": null,
            "order": null,
            "overflow": null,
            "overflow_x": null,
            "overflow_y": null,
            "padding": null,
            "right": null,
            "top": null,
            "visibility": null,
            "width": null
          }
        },
        "f281e81e06cf4fc6b28d7ddde8556fb4": {
          "model_module": "@jupyter-widgets/controls",
          "model_module_version": "1.5.0",
          "model_name": "HBoxModel",
          "state": {
            "_dom_classes": [],
            "_model_module": "@jupyter-widgets/controls",
            "_model_module_version": "1.5.0",
            "_model_name": "HBoxModel",
            "_view_count": null,
            "_view_module": "@jupyter-widgets/controls",
            "_view_module_version": "1.5.0",
            "_view_name": "HBoxView",
            "box_style": "",
            "children": [
              "IPY_MODEL_5d503270005e4b70bde3e89e4feaff0a",
              "IPY_MODEL_2e4862831d8a4db5b4af83455fce77b6",
              "IPY_MODEL_6c3ec69e194f434ca828cc8651e948e2"
            ],
            "layout": "IPY_MODEL_f8023e366eec4e8c8b522b5cf7348517"
          }
        },
        "f48f6f28069c4f5a8ece5c90f7b4d330": {
          "model_module": "@jupyter-widgets/controls",
          "model_module_version": "1.5.0",
          "model_name": "HBoxModel",
          "state": {
            "_dom_classes": [],
            "_model_module": "@jupyter-widgets/controls",
            "_model_module_version": "1.5.0",
            "_model_name": "HBoxModel",
            "_view_count": null,
            "_view_module": "@jupyter-widgets/controls",
            "_view_module_version": "1.5.0",
            "_view_name": "HBoxView",
            "box_style": "",
            "children": [
              "IPY_MODEL_0abbf5be646c4005bc412905257ca5e9",
              "IPY_MODEL_aded0165cf3e411eada1f4b411bdaaf1",
              "IPY_MODEL_261e8174fed944fcac19468aaafe9ceb"
            ],
            "layout": "IPY_MODEL_274b457382824e6aac4e6676d4aaf31d"
          }
        },
        "f8023e366eec4e8c8b522b5cf7348517": {
          "model_module": "@jupyter-widgets/base",
          "model_module_version": "1.2.0",
          "model_name": "LayoutModel",
          "state": {
            "_model_module": "@jupyter-widgets/base",
            "_model_module_version": "1.2.0",
            "_model_name": "LayoutModel",
            "_view_count": null,
            "_view_module": "@jupyter-widgets/base",
            "_view_module_version": "1.2.0",
            "_view_name": "LayoutView",
            "align_content": null,
            "align_items": null,
            "align_self": null,
            "border": null,
            "bottom": null,
            "display": null,
            "flex": null,
            "flex_flow": null,
            "grid_area": null,
            "grid_auto_columns": null,
            "grid_auto_flow": null,
            "grid_auto_rows": null,
            "grid_column": null,
            "grid_gap": null,
            "grid_row": null,
            "grid_template_areas": null,
            "grid_template_columns": null,
            "grid_template_rows": null,
            "height": null,
            "justify_content": null,
            "justify_items": null,
            "left": null,
            "margin": null,
            "max_height": null,
            "max_width": null,
            "min_height": null,
            "min_width": null,
            "object_fit": null,
            "object_position": null,
            "order": null,
            "overflow": null,
            "overflow_x": null,
            "overflow_y": null,
            "padding": null,
            "right": null,
            "top": null,
            "visibility": null,
            "width": null
          }
        },
        "fbeb19f370154dc29ada1192e6dc467a": {
          "model_module": "@jupyter-widgets/base",
          "model_module_version": "1.2.0",
          "model_name": "LayoutModel",
          "state": {
            "_model_module": "@jupyter-widgets/base",
            "_model_module_version": "1.2.0",
            "_model_name": "LayoutModel",
            "_view_count": null,
            "_view_module": "@jupyter-widgets/base",
            "_view_module_version": "1.2.0",
            "_view_name": "LayoutView",
            "align_content": null,
            "align_items": null,
            "align_self": null,
            "border": null,
            "bottom": null,
            "display": null,
            "flex": null,
            "flex_flow": null,
            "grid_area": null,
            "grid_auto_columns": null,
            "grid_auto_flow": null,
            "grid_auto_rows": null,
            "grid_column": null,
            "grid_gap": null,
            "grid_row": null,
            "grid_template_areas": null,
            "grid_template_columns": null,
            "grid_template_rows": null,
            "height": null,
            "justify_content": null,
            "justify_items": null,
            "left": null,
            "margin": null,
            "max_height": null,
            "max_width": null,
            "min_height": null,
            "min_width": null,
            "object_fit": null,
            "object_position": null,
            "order": null,
            "overflow": null,
            "overflow_x": null,
            "overflow_y": null,
            "padding": null,
            "right": null,
            "top": null,
            "visibility": null,
            "width": null
          }
        }
      }
    }
  },
  "nbformat": 4,
  "nbformat_minor": 0
}
