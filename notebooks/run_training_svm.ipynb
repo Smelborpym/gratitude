{
 "cells": [
  {
   "cell_type": "code",
   "execution_count": 39,
   "metadata": {},
   "outputs": [
    {
     "name": "stdout",
     "output_type": "stream",
     "text": [
      "The autoreload extension is already loaded. To reload it, use:\n",
      "  %reload_ext autoreload\n"
     ]
    }
   ],
   "source": [
    "%load_ext autoreload\n",
    "%autoreload 2\n",
    "\n",
    "import pandas as pd\n",
    "import spacy\n",
    "import random\n",
    "import numpy as np\n",
    "import _pickle as cPickle\n",
    "from sklearn import model_selection, svm\n",
    "from sklearn.metrics import accuracy_score\n",
    "from collections import defaultdict\n",
    "from os import getcwd\n",
    "from os.path import join, dirname\n",
    "\n",
    "PATH_REPO = dirname(getcwd())\n",
    "PATH_UTILS = join(PATH_REPO, 'utils')\n",
    "PATH_DATA = join(PATH_REPO, 'data')\n",
    "PATH_MODELS = join(PATH_REPO, 'models')\n",
    "\n",
    "import sys\n",
    "sys.path.append(PATH_UTILS)\n",
    "\n",
    "pd.set_option('max_colwidth', None)\n",
    "\n",
    "random.seed(1)\n",
    "spacy.util.fix_random_seed(1)\n",
    "\n",
    "\n",
    "from training import create_word2vec_dataset\n",
    "\n",
    "from sklearn.metrics import precision_recall_fscore_support as score\n",
    "\n",
    "nlp = spacy.load('en_core_web_lg')\n"
   ]
  },
  {
   "cell_type": "code",
   "execution_count": 32,
   "metadata": {},
   "outputs": [],
   "source": [
    "train = pd.read_csv(join(PATH_DATA, \"grat_train_set.csv\"), engine='python')\n",
    "train = train.sample(frac=1).reset_index(drop=True)\n",
    "train = train.fillna(0)\n",
    "train['label'] = train['label'].astype(int)\n",
    "\n",
    "test = pd.read_csv(join(PATH_DATA, 'test_set_proc.csv'), names=['text', 'label'], skiprows=1)\n",
    "test['label'] = np.where(test['label']=='Gratitude', 1, 0)\n"
   ]
  },
  {
   "cell_type": "code",
   "execution_count": 33,
   "metadata": {},
   "outputs": [
    {
     "data": {
      "text/html": [
       "<div>\n",
       "<style scoped>\n",
       "    .dataframe tbody tr th:only-of-type {\n",
       "        vertical-align: middle;\n",
       "    }\n",
       "\n",
       "    .dataframe tbody tr th {\n",
       "        vertical-align: top;\n",
       "    }\n",
       "\n",
       "    .dataframe thead th {\n",
       "        text-align: right;\n",
       "    }\n",
       "</style>\n",
       "<table border=\"1\" class=\"dataframe\">\n",
       "  <thead>\n",
       "    <tr style=\"text-align: right;\">\n",
       "      <th></th>\n",
       "      <th>text</th>\n",
       "      <th>label</th>\n",
       "    </tr>\n",
       "  </thead>\n",
       "  <tbody>\n",
       "    <tr>\n",
       "      <th>0</th>\n",
       "      <td>Truly privileged to have been trusted to tell this story- huge thanks to USER &amp;amp; USER USER USER USER - but so many more people have been involved USER USER bbcpn ðŸ‘‡ðŸ‘‡ðŸ‘‡</td>\n",
       "      <td>1</td>\n",
       "    </tr>\n",
       "    <tr>\n",
       "      <th>1</th>\n",
       "      <td>USER USER USER Go and close Jaguar Land Rover and its suppliers. Clearly breaking covid guidelines ðŸ‘</td>\n",
       "      <td>0</td>\n",
       "    </tr>\n",
       "    <tr>\n",
       "      <th>2</th>\n",
       "      <td>TOMMO: Thanks, and you keep scribing too! Looking forward to hearing tales of you and your motor bike adventures, although I have heard that it has been a cold and wet winter in France, which is the same as it has been in the UK! And yes, it was indeed a miracle that I did not catch the COVID plague</td>\n",
       "      <td>1</td>\n",
       "    </tr>\n",
       "    <tr>\n",
       "      <th>3</th>\n",
       "      <td>Donâ€™t know how itâ€™s happened, but actually having the best time of my life right now, despite the virus and restrictions. Lifeâ€™s what you make it and Iâ€™m most certainly making the most of my lot and creating magic from hardly anything. Start where you are, use what youâ€™ve got. ðŸ”¥</td>\n",
       "      <td>0</td>\n",
       "    </tr>\n",
       "    <tr>\n",
       "      <th>4</th>\n",
       "      <td>Itâ€™s important to understand that what one says matters. Even more so if you have a platform, publisher, or influence. Check out the stream of utter provacative drivel spouted by USER last year (which he has now deleted, like an ass)</td>\n",
       "      <td>0</td>\n",
       "    </tr>\n",
       "    <tr>\n",
       "      <th>...</th>\n",
       "      <td>...</td>\n",
       "      <td>...</td>\n",
       "    </tr>\n",
       "    <tr>\n",
       "      <th>16136</th>\n",
       "      <td>(THREAD) COVID-19 UPDATE ~ SAFETY FIRST Everyone here at The Banner Hub wishes you a safe and well start to 2021 â€“ we just wanted to let you know what weâ€™re doing to operate safely as we begin another period of lockdown.</td>\n",
       "      <td>0</td>\n",
       "    </tr>\n",
       "    <tr>\n",
       "      <th>16137</th>\n",
       "      <td>Wonderful service received today USER , 1st Covid vaccination received, painless and professionally given! Thank you.</td>\n",
       "      <td>1</td>\n",
       "    </tr>\n",
       "    <tr>\n",
       "      <th>16138</th>\n",
       "      <td>Because of Corona, I have been staying much more time at home than earlier. Was intrigued by Home Theatre system and upgrading from my Samsung soundbar. I have been trying to educate myself on the same. I like Floor Standing speakers and wanted to hear from folks who have set up such a system. I read about Klipsch, Dali, Jamo, Denon etc but don't know enough about them. Can you share your advise on: Which floor standing speakers to consider? Which Amplifier would be recommended (same brand or another one). I have a big TV which I use to see movies and Netflix. Thank you for advise.</td>\n",
       "      <td>1</td>\n",
       "    </tr>\n",
       "    <tr>\n",
       "      <th>16139</th>\n",
       "      <td>â€œMaking sure children get proper, healthy meals should be the top priority for ministers, not listening to lobbyists from the catering industry.â€ More by USER USER education educationnews</td>\n",
       "      <td>0</td>\n",
       "    </tr>\n",
       "    <tr>\n",
       "      <th>16140</th>\n",
       "      <td>USER USER USER You said it, Sally. Thank you, Joanna, for setting out what actually happens to covid patients in ICU. Itâ€™s unbelievable to think some fail to understand how dangerous this virus is</td>\n",
       "      <td>1</td>\n",
       "    </tr>\n",
       "  </tbody>\n",
       "</table>\n",
       "<p>16141 rows × 2 columns</p>\n",
       "</div>"
      ],
      "text/plain": [
       "                                                                                                                                                                                                                                                                                                                                                                                                                                                                                                                                                                                                               text  \\\n",
       "0                                                                                                                                                                                                                                                                                                                                                                                                                                 Truly privileged to have been trusted to tell this story- huge thanks to USER &amp; USER USER USER USER - but so many more people have been involved USER USER bbcpn ðŸ‘‡ðŸ‘‡ðŸ‘‡   \n",
       "1                                                                                                                                                                                                                                                                                                                                                                                                                                                                                                           USER USER USER Go and close Jaguar Land Rover and its suppliers. Clearly breaking covid guidelines ðŸ‘   \n",
       "2                                                                                                                                                                                                                                                                                                     TOMMO: Thanks, and you keep scribing too! Looking forward to hearing tales of you and your motor bike adventures, although I have heard that it has been a cold and wet winter in France, which is the same as it has been in the UK! And yes, it was indeed a miracle that I did not catch the COVID plague    \n",
       "3                                                                                                                                                                                                                                                                                                              Donâ€™t know how itâ€™s happened, but actually having the best time of my life right now, despite the virus and restrictions. Lifeâ€™s what you make it and Iâ€™m most certainly making the most of my lot and creating magic from hardly anything. Start where you are, use what youâ€™ve got. ðŸ”¥   \n",
       "4                                                                                                                                                                                                                                                                                                                                                                       Itâ€™s important to understand that what one says matters. Even more so if you have a platform, publisher, or influence. Check out the stream of utter provacative drivel spouted by USER last year (which he has now deleted, like an ass)   \n",
       "...                                                                                                                                                                                                                                                                                                                                                                                                                                                                                                                                                                                                             ...   \n",
       "16136                                                                                                                                                                                                                                                                                                                                                                             (THREAD) COVID-19 UPDATE ~ SAFETY FIRST Everyone here at The Banner Hub wishes you a safe and well start to 2021 â€“ we just wanted to let you know what weâ€™re doing to operate safely as we begin another period of lockdown.    \n",
       "16137                                                                                                                                                                                                                                                                                                                                                                                                                                                                                         Wonderful service received today USER , 1st Covid vaccination received, painless and professionally given! Thank you.   \n",
       "16138  Because of Corona, I have been staying much more time at home than earlier. Was intrigued by Home Theatre system and upgrading from my Samsung soundbar. I have been trying to educate myself on the same. I like Floor Standing speakers and wanted to hear from folks who have set up such a system. I read about Klipsch, Dali, Jamo, Denon etc but don't know enough about them. Can you share your advise on: Which floor standing speakers to consider? Which Amplifier would be recommended (same brand or another one). I have a big TV which I use to see movies and Netflix. Thank you for advise.   \n",
       "16139                                                                                                                                                                                                                                                                                                                                                                                                               â€œMaking sure children get proper, healthy meals should be the top priority for ministers, not listening to lobbyists from the catering industry.â€ More by USER USER education educationnews   \n",
       "16140                                                                                                                                                                                                                                                                                                                                                                                                        USER USER USER You said it, Sally. Thank you, Joanna, for setting out what actually happens to covid patients in ICU. Itâ€™s unbelievable to think some fail to understand how dangerous this virus is   \n",
       "\n",
       "       label  \n",
       "0          1  \n",
       "1          0  \n",
       "2          1  \n",
       "3          0  \n",
       "4          0  \n",
       "...      ...  \n",
       "16136      0  \n",
       "16137      1  \n",
       "16138      1  \n",
       "16139      0  \n",
       "16140      1  \n",
       "\n",
       "[16141 rows x 2 columns]"
      ]
     },
     "execution_count": 33,
     "metadata": {},
     "output_type": "execute_result"
    }
   ],
   "source": [
    "train"
   ]
  },
  {
   "cell_type": "code",
   "execution_count": 4,
   "metadata": {},
   "outputs": [],
   "source": [
    "X_train, Y_train = create_word2vec_dataset(train, nlp)\n",
    "# X_val, Y_val = create_word2vec_dataset(validation, nlp)\n",
    "X_test = create_word2vec_dataset(test, nlp, False)"
   ]
  },
  {
   "cell_type": "code",
   "execution_count": 5,
   "metadata": {},
   "outputs": [
    {
     "data": {
      "text/plain": [
       "SVC(C=0.5, gamma='auto', kernel='linear')"
      ]
     },
     "execution_count": 5,
     "metadata": {},
     "output_type": "execute_result"
    }
   ],
   "source": [
    "classifier = svm.SVC(C=0.5, kernel='linear', degree=3, gamma='auto')\n",
    "classifier.fit(X_train, Y_train)"
   ]
  },
  {
   "cell_type": "code",
   "execution_count": 6,
   "metadata": {},
   "outputs": [
    {
     "name": "stdout",
     "output_type": "stream",
     "text": [
      "SVM Accuracy Score ->  49.32821497120921\n"
     ]
    }
   ],
   "source": [
    "predictions = classifier.predict(X_test)\n",
    "Y_test = test['label'].values.tolist()\n",
    "print(\"SVM Accuracy Score -> \",accuracy_score(predictions, Y_test)*100)"
   ]
  },
  {
   "cell_type": "code",
   "execution_count": 7,
   "metadata": {},
   "outputs": [],
   "source": [
    "with open(join(PATH_MODELS,'gratitude_classifier.pkl'), 'wb') as fid:\n",
    "    cPickle.dump(classifier, fid)    "
   ]
  },
  {
   "cell_type": "code",
   "execution_count": 8,
   "metadata": {},
   "outputs": [
    {
     "name": "stdout",
     "output_type": "stream",
     "text": [
      "Precision:\t 0.698823948681397 \n",
      " Recall:\t 0.5869003115264797 \n",
      " F1:\t 0.4544502617801047\n"
     ]
    }
   ],
   "source": [
    "precision, recall, fscore, support = score(Y_test, predictions, average='macro')\n",
    "print(\"Precision:\\t\", precision, \"\\n\", \"Recall:\\t\", recall, \"\\n\", \"F1:\\t\", fscore)"
   ]
  },
  {
   "cell_type": "code",
   "execution_count": null,
   "metadata": {},
   "outputs": [],
   "source": []
  }
 ],
 "metadata": {
  "interpreter": {
   "hash": "87706ae1f7c88ada2fe1cb596284f7cb702f35161953f015589bf595d5a05225"
  },
  "kernelspec": {
   "display_name": "Python 3.8.10 64-bit ('gvenv': venv)",
   "name": "python3"
  },
  "language_info": {
   "codemirror_mode": {
    "name": "ipython",
    "version": 3
   },
   "file_extension": ".py",
   "mimetype": "text/x-python",
   "name": "python",
   "nbconvert_exporter": "python",
   "pygments_lexer": "ipython3",
   "version": "3.8.10"
  },
  "orig_nbformat": 4
 },
 "nbformat": 4,
 "nbformat_minor": 2
}
